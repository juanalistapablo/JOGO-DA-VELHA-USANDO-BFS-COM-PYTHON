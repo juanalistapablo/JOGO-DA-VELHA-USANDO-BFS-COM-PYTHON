{
  "nbformat": 4,
  "nbformat_minor": 0,
  "metadata": {
    "colab": {
      "provenance": [],
      "authorship_tag": "ABX9TyPWEB+DrVOhkWvjccC+4z99",
      "include_colab_link": true
    },
    "kernelspec": {
      "name": "python3",
      "display_name": "Python 3"
    },
    "language_info": {
      "name": "python"
    }
  },
  "cells": [
    {
      "cell_type": "markdown",
      "metadata": {
        "id": "view-in-github",
        "colab_type": "text"
      },
      "source": [
        "<a href=\"https://colab.research.google.com/github/juanalistapablo/JOGO-DA-VELHA-USANDO-BFS-COM-PYTHON/blob/main/iris_modelo.ipynb\" target=\"_parent\"><img src=\"https://colab.research.google.com/assets/colab-badge.svg\" alt=\"Open In Colab\"/></a>"
      ]
    },
    {
      "cell_type": "markdown",
      "source": [
        "# MENSURAÇÃO DE DADOS\n"
      ],
      "metadata": {
        "id": "9ToMwOOHWwfL"
      }
    },
    {
      "cell_type": "code",
      "execution_count": null,
      "metadata": {
        "id": "V9JI11S3NwMg",
        "colab": {
          "base_uri": "https://localhost:8080/"
        },
        "outputId": "cf206606-6433-473f-9c55-e8ba970b74fd"
      },
      "outputs": [
        {
          "output_type": "execute_result",
          "data": {
            "text/plain": [
              "array([[5.1, 3.5, 1.4, 0.2],\n",
              "       [4.9, 3. , 1.4, 0.2],\n",
              "       [4.7, 3.2, 1.3, 0.2],\n",
              "       [4.6, 3.1, 1.5, 0.2],\n",
              "       [5. , 3.6, 1.4, 0.2],\n",
              "       [5.4, 3.9, 1.7, 0.4],\n",
              "       [4.6, 3.4, 1.4, 0.3],\n",
              "       [5. , 3.4, 1.5, 0.2],\n",
              "       [4.4, 2.9, 1.4, 0.2],\n",
              "       [4.9, 3.1, 1.5, 0.1],\n",
              "       [5.4, 3.7, 1.5, 0.2],\n",
              "       [4.8, 3.4, 1.6, 0.2],\n",
              "       [4.8, 3. , 1.4, 0.1],\n",
              "       [4.3, 3. , 1.1, 0.1],\n",
              "       [5.8, 4. , 1.2, 0.2],\n",
              "       [5.7, 4.4, 1.5, 0.4],\n",
              "       [5.4, 3.9, 1.3, 0.4],\n",
              "       [5.1, 3.5, 1.4, 0.3],\n",
              "       [5.7, 3.8, 1.7, 0.3],\n",
              "       [5.1, 3.8, 1.5, 0.3],\n",
              "       [5.4, 3.4, 1.7, 0.2],\n",
              "       [5.1, 3.7, 1.5, 0.4],\n",
              "       [4.6, 3.6, 1. , 0.2],\n",
              "       [5.1, 3.3, 1.7, 0.5],\n",
              "       [4.8, 3.4, 1.9, 0.2],\n",
              "       [5. , 3. , 1.6, 0.2],\n",
              "       [5. , 3.4, 1.6, 0.4],\n",
              "       [5.2, 3.5, 1.5, 0.2],\n",
              "       [5.2, 3.4, 1.4, 0.2],\n",
              "       [4.7, 3.2, 1.6, 0.2],\n",
              "       [4.8, 3.1, 1.6, 0.2],\n",
              "       [5.4, 3.4, 1.5, 0.4],\n",
              "       [5.2, 4.1, 1.5, 0.1],\n",
              "       [5.5, 4.2, 1.4, 0.2],\n",
              "       [4.9, 3.1, 1.5, 0.2],\n",
              "       [5. , 3.2, 1.2, 0.2],\n",
              "       [5.5, 3.5, 1.3, 0.2],\n",
              "       [4.9, 3.6, 1.4, 0.1],\n",
              "       [4.4, 3. , 1.3, 0.2],\n",
              "       [5.1, 3.4, 1.5, 0.2],\n",
              "       [5. , 3.5, 1.3, 0.3],\n",
              "       [4.5, 2.3, 1.3, 0.3],\n",
              "       [4.4, 3.2, 1.3, 0.2],\n",
              "       [5. , 3.5, 1.6, 0.6],\n",
              "       [5.1, 3.8, 1.9, 0.4],\n",
              "       [4.8, 3. , 1.4, 0.3],\n",
              "       [5.1, 3.8, 1.6, 0.2],\n",
              "       [4.6, 3.2, 1.4, 0.2],\n",
              "       [5.3, 3.7, 1.5, 0.2],\n",
              "       [5. , 3.3, 1.4, 0.2],\n",
              "       [7. , 3.2, 4.7, 1.4],\n",
              "       [6.4, 3.2, 4.5, 1.5],\n",
              "       [6.9, 3.1, 4.9, 1.5],\n",
              "       [5.5, 2.3, 4. , 1.3],\n",
              "       [6.5, 2.8, 4.6, 1.5],\n",
              "       [5.7, 2.8, 4.5, 1.3],\n",
              "       [6.3, 3.3, 4.7, 1.6],\n",
              "       [4.9, 2.4, 3.3, 1. ],\n",
              "       [6.6, 2.9, 4.6, 1.3],\n",
              "       [5.2, 2.7, 3.9, 1.4],\n",
              "       [5. , 2. , 3.5, 1. ],\n",
              "       [5.9, 3. , 4.2, 1.5],\n",
              "       [6. , 2.2, 4. , 1. ],\n",
              "       [6.1, 2.9, 4.7, 1.4],\n",
              "       [5.6, 2.9, 3.6, 1.3],\n",
              "       [6.7, 3.1, 4.4, 1.4],\n",
              "       [5.6, 3. , 4.5, 1.5],\n",
              "       [5.8, 2.7, 4.1, 1. ],\n",
              "       [6.2, 2.2, 4.5, 1.5],\n",
              "       [5.6, 2.5, 3.9, 1.1],\n",
              "       [5.9, 3.2, 4.8, 1.8],\n",
              "       [6.1, 2.8, 4. , 1.3],\n",
              "       [6.3, 2.5, 4.9, 1.5],\n",
              "       [6.1, 2.8, 4.7, 1.2],\n",
              "       [6.4, 2.9, 4.3, 1.3],\n",
              "       [6.6, 3. , 4.4, 1.4],\n",
              "       [6.8, 2.8, 4.8, 1.4],\n",
              "       [6.7, 3. , 5. , 1.7],\n",
              "       [6. , 2.9, 4.5, 1.5],\n",
              "       [5.7, 2.6, 3.5, 1. ],\n",
              "       [5.5, 2.4, 3.8, 1.1],\n",
              "       [5.5, 2.4, 3.7, 1. ],\n",
              "       [5.8, 2.7, 3.9, 1.2],\n",
              "       [6. , 2.7, 5.1, 1.6],\n",
              "       [5.4, 3. , 4.5, 1.5],\n",
              "       [6. , 3.4, 4.5, 1.6],\n",
              "       [6.7, 3.1, 4.7, 1.5],\n",
              "       [6.3, 2.3, 4.4, 1.3],\n",
              "       [5.6, 3. , 4.1, 1.3],\n",
              "       [5.5, 2.5, 4. , 1.3],\n",
              "       [5.5, 2.6, 4.4, 1.2],\n",
              "       [6.1, 3. , 4.6, 1.4],\n",
              "       [5.8, 2.6, 4. , 1.2],\n",
              "       [5. , 2.3, 3.3, 1. ],\n",
              "       [5.6, 2.7, 4.2, 1.3],\n",
              "       [5.7, 3. , 4.2, 1.2],\n",
              "       [5.7, 2.9, 4.2, 1.3],\n",
              "       [6.2, 2.9, 4.3, 1.3],\n",
              "       [5.1, 2.5, 3. , 1.1],\n",
              "       [5.7, 2.8, 4.1, 1.3],\n",
              "       [6.3, 3.3, 6. , 2.5],\n",
              "       [5.8, 2.7, 5.1, 1.9],\n",
              "       [7.1, 3. , 5.9, 2.1],\n",
              "       [6.3, 2.9, 5.6, 1.8],\n",
              "       [6.5, 3. , 5.8, 2.2],\n",
              "       [7.6, 3. , 6.6, 2.1],\n",
              "       [4.9, 2.5, 4.5, 1.7],\n",
              "       [7.3, 2.9, 6.3, 1.8],\n",
              "       [6.7, 2.5, 5.8, 1.8],\n",
              "       [7.2, 3.6, 6.1, 2.5],\n",
              "       [6.5, 3.2, 5.1, 2. ],\n",
              "       [6.4, 2.7, 5.3, 1.9],\n",
              "       [6.8, 3. , 5.5, 2.1],\n",
              "       [5.7, 2.5, 5. , 2. ],\n",
              "       [5.8, 2.8, 5.1, 2.4],\n",
              "       [6.4, 3.2, 5.3, 2.3],\n",
              "       [6.5, 3. , 5.5, 1.8],\n",
              "       [7.7, 3.8, 6.7, 2.2],\n",
              "       [7.7, 2.6, 6.9, 2.3],\n",
              "       [6. , 2.2, 5. , 1.5],\n",
              "       [6.9, 3.2, 5.7, 2.3],\n",
              "       [5.6, 2.8, 4.9, 2. ],\n",
              "       [7.7, 2.8, 6.7, 2. ],\n",
              "       [6.3, 2.7, 4.9, 1.8],\n",
              "       [6.7, 3.3, 5.7, 2.1],\n",
              "       [7.2, 3.2, 6. , 1.8],\n",
              "       [6.2, 2.8, 4.8, 1.8],\n",
              "       [6.1, 3. , 4.9, 1.8],\n",
              "       [6.4, 2.8, 5.6, 2.1],\n",
              "       [7.2, 3. , 5.8, 1.6],\n",
              "       [7.4, 2.8, 6.1, 1.9],\n",
              "       [7.9, 3.8, 6.4, 2. ],\n",
              "       [6.4, 2.8, 5.6, 2.2],\n",
              "       [6.3, 2.8, 5.1, 1.5],\n",
              "       [6.1, 2.6, 5.6, 1.4],\n",
              "       [7.7, 3. , 6.1, 2.3],\n",
              "       [6.3, 3.4, 5.6, 2.4],\n",
              "       [6.4, 3.1, 5.5, 1.8],\n",
              "       [6. , 3. , 4.8, 1.8],\n",
              "       [6.9, 3.1, 5.4, 2.1],\n",
              "       [6.7, 3.1, 5.6, 2.4],\n",
              "       [6.9, 3.1, 5.1, 2.3],\n",
              "       [5.8, 2.7, 5.1, 1.9],\n",
              "       [6.8, 3.2, 5.9, 2.3],\n",
              "       [6.7, 3.3, 5.7, 2.5],\n",
              "       [6.7, 3. , 5.2, 2.3],\n",
              "       [6.3, 2.5, 5. , 1.9],\n",
              "       [6.5, 3. , 5.2, 2. ],\n",
              "       [6.2, 3.4, 5.4, 2.3],\n",
              "       [5.9, 3. , 5.1, 1.8]])"
            ]
          },
          "metadata": {},
          "execution_count": 40
        }
      ],
      "source": [
        "from sklearn import datasets\n",
        "iris = datasets.load_iris(return_X_y= True)#apenas as entradas!\n",
        "x = iris[0] #primeiro elemento da tupla\n",
        "y = iris [1]\n",
        "x"
      ]
    },
    {
      "cell_type": "code",
      "source": [
        "# Load the iris dataset with the Bunch object structure\n",
        "iris_data = datasets.load_iris()\n",
        "# Access features_names from the Bunch object\n",
        "features = iris_data['feature_names']  #or iris_data.feature_names\n",
        "print(features)\n",
        "#If you also need the data (x) and target(y) you can get them:\n",
        "x = iris_data.data\n",
        "y = iris_data.target"
      ],
      "metadata": {
        "colab": {
          "base_uri": "https://localhost:8080/"
        },
        "id": "NUFP352DGnZz",
        "outputId": "6885719b-0128-4c05-c1b4-e9c674359e49"
      },
      "execution_count": null,
      "outputs": [
        {
          "output_type": "stream",
          "name": "stdout",
          "text": [
            "['sepal length (cm)', 'sepal width (cm)', 'petal length (cm)', 'petal width (cm)']\n"
          ]
        }
      ]
    },
    {
      "cell_type": "code",
      "source": [
        "y #identificar oq e a saida: probemas multi classe."
      ],
      "metadata": {
        "colab": {
          "base_uri": "https://localhost:8080/"
        },
        "id": "XMmvq7jgG7r9",
        "outputId": "2f6cc247-22a7-4b55-f7c3-718706f552fe"
      },
      "execution_count": null,
      "outputs": [
        {
          "output_type": "execute_result",
          "data": {
            "text/plain": [
              "array([0, 0, 0, 0, 0, 0, 0, 0, 0, 0, 0, 0, 0, 0, 0, 0, 0, 0, 0, 0, 0, 0,\n",
              "       0, 0, 0, 0, 0, 0, 0, 0, 0, 0, 0, 0, 0, 0, 0, 0, 0, 0, 0, 0, 0, 0,\n",
              "       0, 0, 0, 0, 0, 0, 1, 1, 1, 1, 1, 1, 1, 1, 1, 1, 1, 1, 1, 1, 1, 1,\n",
              "       1, 1, 1, 1, 1, 1, 1, 1, 1, 1, 1, 1, 1, 1, 1, 1, 1, 1, 1, 1, 1, 1,\n",
              "       1, 1, 1, 1, 1, 1, 1, 1, 1, 1, 1, 1, 2, 2, 2, 2, 2, 2, 2, 2, 2, 2,\n",
              "       2, 2, 2, 2, 2, 2, 2, 2, 2, 2, 2, 2, 2, 2, 2, 2, 2, 2, 2, 2, 2, 2,\n",
              "       2, 2, 2, 2, 2, 2, 2, 2, 2, 2, 2, 2, 2, 2, 2, 2, 2, 2])"
            ]
          },
          "metadata": {},
          "execution_count": 42
        }
      ]
    },
    {
      "cell_type": "code",
      "source": [
        "datasets.load_iris()['target_names']#'setosa'= 0, 'versicolor' = 1, 'virginica'= 2"
      ],
      "metadata": {
        "colab": {
          "base_uri": "https://localhost:8080/"
        },
        "id": "SNSs5rTxHfc0",
        "outputId": "306629d7-fd57-4081-f0d4-e9a949706173"
      },
      "execution_count": null,
      "outputs": [
        {
          "output_type": "execute_result",
          "data": {
            "text/plain": [
              "array(['setosa', 'versicolor', 'virginica'], dtype='<U10')"
            ]
          },
          "metadata": {},
          "execution_count": 43
        }
      ]
    },
    {
      "cell_type": "code",
      "source": [
        "import matplotlib.pyplot as plt#visulizar distribuiçao dos Dados.\n",
        "import seaborn as sns#pontos, melhor para identificar formas futuras  de criar retas de separaçao\n",
        "\n",
        "sns.scatterplot(x = x[:,2], y = x[:,3], hue = y, palette = \"tab10\")\n",
        "plt.xlabel('comprimento (cm)', fontsize = 16)#comprimento das petalas\n",
        "plt.ylabel('largura (cm)', fontsize = 16)#largura das petalas\n",
        "plt.title('Distribuição pétalas', fontsize = 18)\n",
        "plt.show()\n",
        "#consentraçao da cetosa na origem.(petalas menores)e etc.."
      ],
      "metadata": {
        "colab": {
          "base_uri": "https://localhost:8080/",
          "height": 484
        },
        "id": "gcoEEcg3IilL",
        "outputId": "cd911940-3d20-4a31-f1b7-63cb012263ae"
      },
      "execution_count": null,
      "outputs": [
        {
          "output_type": "display_data",
          "data": {
            "text/plain": [
              "<Figure size 640x480 with 1 Axes>"
            ],
            "image/png": "[encoded data removed]"
          },
          "metadata": {}
        }
      ]
    },
    {
      "cell_type": "code",
      "source": [
        "#distribuisao de sepalas.\n",
        "sns.scatterplot(x = x[:,0], y = x[:,1], hue = y, palette = \"tab10\")#sepalas n consentradas na origem.\n",
        "plt.xlabel('comprimento (cm)', fontsize = 16)# 1 e 2 mais misturados.\n",
        "plt.ylabel('largura (cm)', fontsize = 16)\n",
        "plt.title('Distribuição sépalas', fontsize = 18)\n",
        "plt.show()"
      ],
      "metadata": {
        "colab": {
          "base_uri": "https://localhost:8080/",
          "height": 484
        },
        "id": "kqLm6U5KSTHV",
        "outputId": "6ecb7cb3-b4b1-4210-8176-21c6ad4147b3"
      },
      "execution_count": null,
      "outputs": [
        {
          "output_type": "display_data",
          "data": {
            "text/plain": [
              "<Figure size 640x480 with 1 Axes>"
            ],
            "image/png": "[encoded data removed]"
          },
          "metadata": {}
        }
      ]
    },
    {
      "cell_type": "markdown",
      "source": [
        "#TRATAMENTO DE DADOS"
      ],
      "metadata": {
        "id": "nbSE60m-XnWX"
      }
    },
    {
      "cell_type": "markdown",
      "source": [
        "##Categorização"
      ],
      "metadata": {
        "id": "kEi1kc11YRx7"
      }
    },
    {
      "cell_type": "code",
      "source": [
        "y.shape #compara tamnho array, antes e depois."
      ],
      "metadata": {
        "colab": {
          "base_uri": "https://localhost:8080/"
        },
        "id": "YknMe3-nYRTf",
        "outputId": "325588e1-f3c2-416b-b824-8066c05f381b"
      },
      "execution_count": null,
      "outputs": [
        {
          "output_type": "execute_result",
          "data": {
            "text/plain": [
              "(150,)"
            ]
          },
          "metadata": {},
          "execution_count": 46
        }
      ]
    },
    {
      "cell_type": "code",
      "source": [
        "import tensorflow as tf\n",
        "y = tf.keras.utils.to_categorical(y)#binarizando minhas categorias.\n",
        "y.shape"
      ],
      "metadata": {
        "colab": {
          "base_uri": "https://localhost:8080/"
        },
        "id": "sv4HvuYcZEPP",
        "outputId": "ea47cecf-27b6-4c80-f4cf-fb10c775da75"
      },
      "execution_count": null,
      "outputs": [
        {
          "output_type": "execute_result",
          "data": {
            "text/plain": [
              "(150, 3)"
            ]
          },
          "metadata": {},
          "execution_count": 47
        }
      ]
    },
    {
      "cell_type": "code",
      "source": [
        "y#saidas categorizadas."
      ],
      "metadata": {
        "colab": {
          "base_uri": "https://localhost:8080/"
        },
        "id": "_y9nlpEIaIDO",
        "outputId": "680a3429-5791-4f3a-e7ce-c7b224cb44b2"
      },
      "execution_count": null,
      "outputs": [
        {
          "output_type": "execute_result",
          "data": {
            "text/plain": [
              "array([[1., 0., 0.],\n",
              "       [1., 0., 0.],\n",
              "       [1., 0., 0.],\n",
              "       [1., 0., 0.],\n",
              "       [1., 0., 0.],\n",
              "       [1., 0., 0.],\n",
              "       [1., 0., 0.],\n",
              "       [1., 0., 0.],\n",
              "       [1., 0., 0.],\n",
              "       [1., 0., 0.],\n",
              "       [1., 0., 0.],\n",
              "       [1., 0., 0.],\n",
              "       [1., 0., 0.],\n",
              "       [1., 0., 0.],\n",
              "       [1., 0., 0.],\n",
              "       [1., 0., 0.],\n",
              "       [1., 0., 0.],\n",
              "       [1., 0., 0.],\n",
              "       [1., 0., 0.],\n",
              "       [1., 0., 0.],\n",
              "       [1., 0., 0.],\n",
              "       [1., 0., 0.],\n",
              "       [1., 0., 0.],\n",
              "       [1., 0., 0.],\n",
              "       [1., 0., 0.],\n",
              "       [1., 0., 0.],\n",
              "       [1., 0., 0.],\n",
              "       [1., 0., 0.],\n",
              "       [1., 0., 0.],\n",
              "       [1., 0., 0.],\n",
              "       [1., 0., 0.],\n",
              "       [1., 0., 0.],\n",
              "       [1., 0., 0.],\n",
              "       [1., 0., 0.],\n",
              "       [1., 0., 0.],\n",
              "       [1., 0., 0.],\n",
              "       [1., 0., 0.],\n",
              "       [1., 0., 0.],\n",
              "       [1., 0., 0.],\n",
              "       [1., 0., 0.],\n",
              "       [1., 0., 0.],\n",
              "       [1., 0., 0.],\n",
              "       [1., 0., 0.],\n",
              "       [1., 0., 0.],\n",
              "       [1., 0., 0.],\n",
              "       [1., 0., 0.],\n",
              "       [1., 0., 0.],\n",
              "       [1., 0., 0.],\n",
              "       [1., 0., 0.],\n",
              "       [1., 0., 0.],\n",
              "       [0., 1., 0.],\n",
              "       [0., 1., 0.],\n",
              "       [0., 1., 0.],\n",
              "       [0., 1., 0.],\n",
              "       [0., 1., 0.],\n",
              "       [0., 1., 0.],\n",
              "       [0., 1., 0.],\n",
              "       [0., 1., 0.],\n",
              "       [0., 1., 0.],\n",
              "       [0., 1., 0.],\n",
              "       [0., 1., 0.],\n",
              "       [0., 1., 0.],\n",
              "       [0., 1., 0.],\n",
              "       [0., 1., 0.],\n",
              "       [0., 1., 0.],\n",
              "       [0., 1., 0.],\n",
              "       [0., 1., 0.],\n",
              "       [0., 1., 0.],\n",
              "       [0., 1., 0.],\n",
              "       [0., 1., 0.],\n",
              "       [0., 1., 0.],\n",
              "       [0., 1., 0.],\n",
              "       [0., 1., 0.],\n",
              "       [0., 1., 0.],\n",
              "       [0., 1., 0.],\n",
              "       [0., 1., 0.],\n",
              "       [0., 1., 0.],\n",
              "       [0., 1., 0.],\n",
              "       [0., 1., 0.],\n",
              "       [0., 1., 0.],\n",
              "       [0., 1., 0.],\n",
              "       [0., 1., 0.],\n",
              "       [0., 1., 0.],\n",
              "       [0., 1., 0.],\n",
              "       [0., 1., 0.],\n",
              "       [0., 1., 0.],\n",
              "       [0., 1., 0.],\n",
              "       [0., 1., 0.],\n",
              "       [0., 1., 0.],\n",
              "       [0., 1., 0.],\n",
              "       [0., 1., 0.],\n",
              "       [0., 1., 0.],\n",
              "       [0., 1., 0.],\n",
              "       [0., 1., 0.],\n",
              "       [0., 1., 0.],\n",
              "       [0., 1., 0.],\n",
              "       [0., 1., 0.],\n",
              "       [0., 1., 0.],\n",
              "       [0., 1., 0.],\n",
              "       [0., 1., 0.],\n",
              "       [0., 0., 1.],\n",
              "       [0., 0., 1.],\n",
              "       [0., 0., 1.],\n",
              "       [0., 0., 1.],\n",
              "       [0., 0., 1.],\n",
              "       [0., 0., 1.],\n",
              "       [0., 0., 1.],\n",
              "       [0., 0., 1.],\n",
              "       [0., 0., 1.],\n",
              "       [0., 0., 1.],\n",
              "       [0., 0., 1.],\n",
              "       [0., 0., 1.],\n",
              "       [0., 0., 1.],\n",
              "       [0., 0., 1.],\n",
              "       [0., 0., 1.],\n",
              "       [0., 0., 1.],\n",
              "       [0., 0., 1.],\n",
              "       [0., 0., 1.],\n",
              "       [0., 0., 1.],\n",
              "       [0., 0., 1.],\n",
              "       [0., 0., 1.],\n",
              "       [0., 0., 1.],\n",
              "       [0., 0., 1.],\n",
              "       [0., 0., 1.],\n",
              "       [0., 0., 1.],\n",
              "       [0., 0., 1.],\n",
              "       [0., 0., 1.],\n",
              "       [0., 0., 1.],\n",
              "       [0., 0., 1.],\n",
              "       [0., 0., 1.],\n",
              "       [0., 0., 1.],\n",
              "       [0., 0., 1.],\n",
              "       [0., 0., 1.],\n",
              "       [0., 0., 1.],\n",
              "       [0., 0., 1.],\n",
              "       [0., 0., 1.],\n",
              "       [0., 0., 1.],\n",
              "       [0., 0., 1.],\n",
              "       [0., 0., 1.],\n",
              "       [0., 0., 1.],\n",
              "       [0., 0., 1.],\n",
              "       [0., 0., 1.],\n",
              "       [0., 0., 1.],\n",
              "       [0., 0., 1.],\n",
              "       [0., 0., 1.],\n",
              "       [0., 0., 1.],\n",
              "       [0., 0., 1.],\n",
              "       [0., 0., 1.],\n",
              "       [0., 0., 1.],\n",
              "       [0., 0., 1.]])"
            ]
          },
          "metadata": {},
          "execution_count": 48
        }
      ]
    },
    {
      "cell_type": "markdown",
      "source": [
        "##Normalização de Entradas"
      ],
      "metadata": {
        "id": "blQKu_ShaiTd"
      }
    },
    {
      "cell_type": "code",
      "source": [
        "#diminuir as percas/ menos procss.\n",
        "from sklearn.preprocessing import MinMaxScaler\n",
        "scaler = MinMaxScaler()#normalização entre 0 e 1.\n",
        "x = scaler.fit_transform(x)\n",
        "#entradas normalizadas."
      ],
      "metadata": {
        "id": "6cRrH8fPdgiq"
      },
      "execution_count": null,
      "outputs": []
    },
    {
      "cell_type": "markdown",
      "source": [
        "##Separação de Conjunto"
      ],
      "metadata": {
        "id": "pRo3kWEjeI-3"
      }
    },
    {
      "cell_type": "code",
      "source": [
        "from sklearn.model_selection import train_test_split\n",
        "\n",
        "x_treino, x_teste, y_treino, y_teste = train_test_split(x, y, test_size = 0.2, stratify = y, random_state=42)"
      ],
      "metadata": {
        "id": "IL4t9Q8PeHns"
      },
      "execution_count": null,
      "outputs": []
    },
    {
      "cell_type": "code",
      "source": [
        "x_treino.shape"
      ],
      "metadata": {
        "colab": {
          "base_uri": "https://localhost:8080/"
        },
        "id": "X37MKHoyeeAv",
        "outputId": "8a3798c3-207a-4c3d-ff8d-a74eb4017644"
      },
      "execution_count": null,
      "outputs": [
        {
          "output_type": "execute_result",
          "data": {
            "text/plain": [
              "(120, 4)"
            ]
          },
          "metadata": {},
          "execution_count": 51
        }
      ]
    },
    {
      "cell_type": "code",
      "source": [
        "x_teste.shape"
      ],
      "metadata": {
        "colab": {
          "base_uri": "https://localhost:8080/"
        },
        "id": "BG5eNnAOe7va",
        "outputId": "eba24fad-6111-4339-9bb5-36c2f21dd0cc"
      },
      "execution_count": null,
      "outputs": [
        {
          "output_type": "execute_result",
          "data": {
            "text/plain": [
              "(30, 4)"
            ]
          },
          "metadata": {},
          "execution_count": 52
        }
      ]
    },
    {
      "cell_type": "markdown",
      "source": [
        "#MODELO"
      ],
      "metadata": {
        "id": "PdWNyxy0dDxd"
      }
    },
    {
      "cell_type": "markdown",
      "source": [
        "##Multilayer Perceptron"
      ],
      "metadata": {
        "id": "k00lJLgBClBg"
      }
    },
    {
      "cell_type": "code",
      "source": [
        "import tensorflow as tf\n",
        "from tensorflow.keras.callbacks import EarlyStopping\n",
        "\n",
        "#Multilayer Perceptron:camada de entrada,camada oculta e camada de saída\n",
        "modelo = tf.keras.Sequential([\n",
        "    tf.keras.layers.InputLayer(input_shape=[4,], name='entrada'),#x(entrada) = 4 , duas dimençoes.\n",
        "    tf.keras.layers.Dense(512, activation='relu', name='oculta',#quantidades de neuronios = 512/ funçao de ativaçao relu\n",
        "                          kernel_initializer=tf.keras.initializers.RandomNormal(seed=142)),\n",
        "    tf.keras.layers.Dense(3, activation='softmax', name='saida')#camada de saida = dense / camada de saida quantidade de neuronio igual a de classes 1/ softmax a funçao de ativaçao mlr para mult classes.\n",
        "])"
      ],
      "metadata": {
        "colab": {
          "base_uri": "https://localhost:8080/"
        },
        "id": "9mPVt-B0oDjV",
        "outputId": "4ab71b96-6c95-4d61-ee08-2f45af7011ce"
      },
      "execution_count": null,
      "outputs": [
        {
          "output_type": "stream",
          "name": "stderr",
          "text": [
            "/usr/local/lib/python3.11/dist-packages/keras/src/layers/core/input_layer.py:27: UserWarning: Argument `input_shape` is deprecated. Use `shape` instead.\n",
            "  warnings.warn(\n"
          ]
        }
      ]
    },
    {
      "cell_type": "code",
      "source": [
        "modelo.summary()"
      ],
      "metadata": {
        "colab": {
          "base_uri": "https://localhost:8080/",
          "height": 209
        },
        "id": "pV5UYuuJenMB",
        "outputId": "ebfd4827-ff67-4f14-c6a1-7687733d963b"
      },
      "execution_count": null,
      "outputs": [
        {
          "output_type": "display_data",
          "data": {
            "text/plain": [
              "\u001b[1mModel: \"sequential_19\"\u001b[0m\n"
            ],
            "text/html": [
              "<pre style=\"white-space:pre;overflow-x:auto;line-height:normal;font-family:Menlo,'DejaVu Sans Mono',consolas,'Courier New',monospace\"><span style=\"font-weight: bold\">Model: \"sequential_19\"</span>\n",
              "</pre>\n"
            ]
          },
          "metadata": {}
        },
        {
          "output_type": "display_data",
          "data": {
            "text/plain": [
              "┏━━━━━━━━━━━━━━━━━━━━━━━━━━━━━━━━━━━━━━┳━━━━━━━━━━━━━━━━━━━━━━━━━━━━━┳━━━━━━━━━━━━━━━━━┓\n",
              "┃\u001b[1m \u001b[0m\u001b[1mLayer (type)                        \u001b[0m\u001b[1m \u001b[0m┃\u001b[1m \u001b[0m\u001b[1mOutput Shape               \u001b[0m\u001b[1m \u001b[0m┃\u001b[1m \u001b[0m\u001b[1m        Param #\u001b[0m\u001b[1m \u001b[0m┃\n",
              "┡━━━━━━━━━━━━━━━━━━━━━━━━━━━━━━━━━━━━━━╇━━━━━━━━━━━━━━━━━━━━━━━━━━━━━╇━━━━━━━━━━━━━━━━━┩\n",
              "│ oculta (\u001b[38;5;33mDense\u001b[0m)                       │ (\u001b[38;5;45mNone\u001b[0m, \u001b[38;5;34m512\u001b[0m)                 │           \u001b[38;5;34m2,560\u001b[0m │\n",
              "├──────────────────────────────────────┼─────────────────────────────┼─────────────────┤\n",
              "│ saida (\u001b[38;5;33mDense\u001b[0m)                        │ (\u001b[38;5;45mNone\u001b[0m, \u001b[38;5;34m3\u001b[0m)                   │           \u001b[38;5;34m1,539\u001b[0m │\n",
              "└──────────────────────────────────────┴─────────────────────────────┴─────────────────┘\n"
            ],
            "text/html": [
              "<pre style=\"white-space:pre;overflow-x:auto;line-height:normal;font-family:Menlo,'DejaVu Sans Mono',consolas,'Courier New',monospace\">┏━━━━━━━━━━━━━━━━━━━━━━━━━━━━━━━━━━━━━━┳━━━━━━━━━━━━━━━━━━━━━━━━━━━━━┳━━━━━━━━━━━━━━━━━┓\n",
              "┃<span style=\"font-weight: bold\"> Layer (type)                         </span>┃<span style=\"font-weight: bold\"> Output Shape                </span>┃<span style=\"font-weight: bold\">         Param # </span>┃\n",
              "┡━━━━━━━━━━━━━━━━━━━━━━━━━━━━━━━━━━━━━━╇━━━━━━━━━━━━━━━━━━━━━━━━━━━━━╇━━━━━━━━━━━━━━━━━┩\n",
              "│ oculta (<span style=\"color: #0087ff; text-decoration-color: #0087ff\">Dense</span>)                       │ (<span style=\"color: #00d7ff; text-decoration-color: #00d7ff\">None</span>, <span style=\"color: #00af00; text-decoration-color: #00af00\">512</span>)                 │           <span style=\"color: #00af00; text-decoration-color: #00af00\">2,560</span> │\n",
              "├──────────────────────────────────────┼─────────────────────────────┼─────────────────┤\n",
              "│ saida (<span style=\"color: #0087ff; text-decoration-color: #0087ff\">Dense</span>)                        │ (<span style=\"color: #00d7ff; text-decoration-color: #00d7ff\">None</span>, <span style=\"color: #00af00; text-decoration-color: #00af00\">3</span>)                   │           <span style=\"color: #00af00; text-decoration-color: #00af00\">1,539</span> │\n",
              "└──────────────────────────────────────┴─────────────────────────────┴─────────────────┘\n",
              "</pre>\n"
            ]
          },
          "metadata": {}
        },
        {
          "output_type": "display_data",
          "data": {
            "text/plain": [
              "\u001b[1m Total params: \u001b[0m\u001b[38;5;34m8,200\u001b[0m (32.04 KB)\n"
            ],
            "text/html": [
              "<pre style=\"white-space:pre;overflow-x:auto;line-height:normal;font-family:Menlo,'DejaVu Sans Mono',consolas,'Courier New',monospace\"><span style=\"font-weight: bold\"> Total params: </span><span style=\"color: #00af00; text-decoration-color: #00af00\">8,200</span> (32.04 KB)\n",
              "</pre>\n"
            ]
          },
          "metadata": {}
        },
        {
          "output_type": "display_data",
          "data": {
            "text/plain": [
              "\u001b[1m Trainable params: \u001b[0m\u001b[38;5;34m4,099\u001b[0m (16.01 KB)\n"
            ],
            "text/html": [
              "<pre style=\"white-space:pre;overflow-x:auto;line-height:normal;font-family:Menlo,'DejaVu Sans Mono',consolas,'Courier New',monospace\"><span style=\"font-weight: bold\"> Trainable params: </span><span style=\"color: #00af00; text-decoration-color: #00af00\">4,099</span> (16.01 KB)\n",
              "</pre>\n"
            ]
          },
          "metadata": {}
        },
        {
          "output_type": "display_data",
          "data": {
            "text/plain": [
              "\u001b[1m Non-trainable params: \u001b[0m\u001b[38;5;34m0\u001b[0m (0.00 B)\n"
            ],
            "text/html": [
              "<pre style=\"white-space:pre;overflow-x:auto;line-height:normal;font-family:Menlo,'DejaVu Sans Mono',consolas,'Courier New',monospace\"><span style=\"font-weight: bold\"> Non-trainable params: </span><span style=\"color: #00af00; text-decoration-color: #00af00\">0</span> (0.00 B)\n",
              "</pre>\n"
            ]
          },
          "metadata": {}
        },
        {
          "output_type": "display_data",
          "data": {
            "text/plain": [
              "\u001b[1m Optimizer params: \u001b[0m\u001b[38;5;34m4,101\u001b[0m (16.02 KB)\n"
            ],
            "text/html": [
              "<pre style=\"white-space:pre;overflow-x:auto;line-height:normal;font-family:Menlo,'DejaVu Sans Mono',consolas,'Courier New',monospace\"><span style=\"font-weight: bold\"> Optimizer params: </span><span style=\"color: #00af00; text-decoration-color: #00af00\">4,101</span> (16.02 KB)\n",
              "</pre>\n"
            ]
          },
          "metadata": {}
        }
      ]
    },
    {
      "cell_type": "markdown",
      "source": [
        "##TREINAMENTO"
      ],
      "metadata": {
        "id": "jBXg4VKgb3kP"
      }
    },
    {
      "cell_type": "markdown",
      "source": [
        "###Compilação"
      ],
      "metadata": {
        "id": "n1s9bY_Hb_gQ"
      }
    },
    {
      "cell_type": "code",
      "source": [
        "# Definir a função perda e a função de otimização.\n",
        "modelo.compile(loss='categorical_crossentropy',\n",
        "               optimizer='rmsprop',\n",
        "               metrics=['categorical_accuracy'])"
      ],
      "metadata": {
        "id": "bJHc586MoJd5"
      },
      "execution_count": null,
      "outputs": []
    },
    {
      "cell_type": "markdown",
      "source": [
        "###Treinamento"
      ],
      "metadata": {
        "id": "RkcqSoTBdGPC"
      }
    },
    {
      "cell_type": "code",
      "source": [
        "# Definindo Early Stopping\n",
        "early_stopping = EarlyStopping(\n",
        "    monitor='val_loss',  # Monitora a perda de validação\n",
        "    patience=5,          # Espera 5 épocas sem melhora antes de parar\n",
        "    restore_best_weights=True  # Restaura os melhores pesos encontrados\n",
        ")"
      ],
      "metadata": {
        "id": "5opgp6XJoQi4"
      },
      "execution_count": null,
      "outputs": []
    },
    {
      "cell_type": "code",
      "source": [
        "epocas = 300 #200 mesmo resultado\n",
        "\n",
        "# Treinando o modelo com Early Stopping\n",
        "historico = modelo.fit(\n",
        "    x_treino, y_treino,\n",
        "    epochs=epocas,\n",
        "    validation_split=0.3,\n",
        "    callbacks=[early_stopping]  # Adicionando o callback\n",
        ")\n"
      ],
      "metadata": {
        "colab": {
          "base_uri": "https://localhost:8080/"
        },
        "id": "PF7UxlJ3oXxu",
        "outputId": "c946b2db-a7e6-4af6-ff9f-71343ec2ebee"
      },
      "execution_count": null,
      "outputs": [
        {
          "output_type": "stream",
          "name": "stdout",
          "text": [
            "Epoch 1/300\n",
            "\u001b[1m3/3\u001b[0m \u001b[32m━━━━━━━━━━━━━━━━━━━━\u001b[0m\u001b[37m\u001b[0m \u001b[1m2s\u001b[0m 246ms/step - categorical_accuracy: 0.5002 - loss: 1.0723 - val_categorical_accuracy: 0.6389 - val_loss: 1.0082\n",
            "Epoch 2/300\n",
            "\u001b[1m3/3\u001b[0m \u001b[32m━━━━━━━━━━━━━━━━━━━━\u001b[0m\u001b[37m\u001b[0m \u001b[1m0s\u001b[0m 64ms/step - categorical_accuracy: 0.6791 - loss: 0.9891 - val_categorical_accuracy: 0.6389 - val_loss: 0.9610\n",
            "Epoch 3/300\n",
            "\u001b[1m3/3\u001b[0m \u001b[32m━━━━━━━━━━━━━━━━━━━━\u001b[0m\u001b[37m\u001b[0m \u001b[1m0s\u001b[0m 45ms/step - categorical_accuracy: 0.6752 - loss: 0.9348 - val_categorical_accuracy: 0.6389 - val_loss: 0.9206\n",
            "Epoch 4/300\n",
            "\u001b[1m3/3\u001b[0m \u001b[32m━━━━━━━━━━━━━━━━━━━━\u001b[0m\u001b[37m\u001b[0m \u001b[1m0s\u001b[0m 44ms/step - categorical_accuracy: 0.6752 - loss: 0.8967 - val_categorical_accuracy: 0.6389 - val_loss: 0.8853\n",
            "Epoch 5/300\n",
            "\u001b[1m3/3\u001b[0m \u001b[32m━━━━━━━━━━━━━━━━━━━━\u001b[0m\u001b[37m\u001b[0m \u001b[1m0s\u001b[0m 49ms/step - categorical_accuracy: 0.6908 - loss: 0.8572 - val_categorical_accuracy: 0.6389 - val_loss: 0.8543\n",
            "Epoch 6/300\n",
            "\u001b[1m3/3\u001b[0m \u001b[32m━━━━━━━━━━━━━━━━━━━━\u001b[0m\u001b[37m\u001b[0m \u001b[1m0s\u001b[0m 46ms/step - categorical_accuracy: 0.6440 - loss: 0.8350 - val_categorical_accuracy: 0.6389 - val_loss: 0.8245\n",
            "Epoch 7/300\n",
            "\u001b[1m3/3\u001b[0m \u001b[32m━━━━━━━━━━━━━━━━━━━━\u001b[0m\u001b[37m\u001b[0m \u001b[1m0s\u001b[0m 60ms/step - categorical_accuracy: 0.6557 - loss: 0.7947 - val_categorical_accuracy: 0.6389 - val_loss: 0.7978\n",
            "Epoch 8/300\n",
            "\u001b[1m3/3\u001b[0m \u001b[32m━━━━━━━━━━━━━━━━━━━━\u001b[0m\u001b[37m\u001b[0m \u001b[1m0s\u001b[0m 52ms/step - categorical_accuracy: 0.6596 - loss: 0.7657 - val_categorical_accuracy: 0.6389 - val_loss: 0.7706\n",
            "Epoch 9/300\n",
            "\u001b[1m3/3\u001b[0m \u001b[32m━━━━━━━━━━━━━━━━━━━━\u001b[0m\u001b[37m\u001b[0m \u001b[1m0s\u001b[0m 51ms/step - categorical_accuracy: 0.6830 - loss: 0.7225 - val_categorical_accuracy: 0.6389 - val_loss: 0.7475\n",
            "Epoch 10/300\n",
            "\u001b[1m3/3\u001b[0m \u001b[32m━━━━━━━━━━━━━━━━━━━━\u001b[0m\u001b[37m\u001b[0m \u001b[1m0s\u001b[0m 46ms/step - categorical_accuracy: 0.6752 - loss: 0.7061 - val_categorical_accuracy: 0.6389 - val_loss: 0.7219\n",
            "Epoch 11/300\n",
            "\u001b[1m3/3\u001b[0m \u001b[32m━━━━━━━━━━━━━━━━━━━━\u001b[0m\u001b[37m\u001b[0m \u001b[1m0s\u001b[0m 62ms/step - categorical_accuracy: 0.6518 - loss: 0.6870 - val_categorical_accuracy: 0.6389 - val_loss: 0.7015\n",
            "Epoch 12/300\n",
            "\u001b[1m3/3\u001b[0m \u001b[32m━━━━━━━━━━━━━━━━━━━━\u001b[0m\u001b[37m\u001b[0m \u001b[1m0s\u001b[0m 45ms/step - categorical_accuracy: 0.7143 - loss: 0.6382 - val_categorical_accuracy: 0.6389 - val_loss: 0.6772\n",
            "Epoch 13/300\n",
            "\u001b[1m3/3\u001b[0m \u001b[32m━━━━━━━━━━━━━━━━━━━━\u001b[0m\u001b[37m\u001b[0m \u001b[1m0s\u001b[0m 44ms/step - categorical_accuracy: 0.6908 - loss: 0.6312 - val_categorical_accuracy: 0.6667 - val_loss: 0.6567\n",
            "Epoch 14/300\n",
            "\u001b[1m3/3\u001b[0m \u001b[32m━━━━━━━━━━━━━━━━━━━━\u001b[0m\u001b[37m\u001b[0m \u001b[1m0s\u001b[0m 59ms/step - categorical_accuracy: 0.6773 - loss: 0.6141 - val_categorical_accuracy: 0.6389 - val_loss: 0.6390\n",
            "Epoch 15/300\n",
            "\u001b[1m3/3\u001b[0m \u001b[32m━━━━━━━━━━━━━━━━━━━━\u001b[0m\u001b[37m\u001b[0m \u001b[1m0s\u001b[0m 43ms/step - categorical_accuracy: 0.6830 - loss: 0.5874 - val_categorical_accuracy: 0.6667 - val_loss: 0.6208\n",
            "Epoch 16/300\n",
            "\u001b[1m3/3\u001b[0m \u001b[32m━━━━━━━━━━━━━━━━━━━━\u001b[0m\u001b[37m\u001b[0m \u001b[1m0s\u001b[0m 45ms/step - categorical_accuracy: 0.6557 - loss: 0.5887 - val_categorical_accuracy: 0.6667 - val_loss: 0.6048\n",
            "Epoch 17/300\n",
            "\u001b[1m3/3\u001b[0m \u001b[32m━━━━━━━━━━━━━━━━━━━━\u001b[0m\u001b[37m\u001b[0m \u001b[1m0s\u001b[0m 45ms/step - categorical_accuracy: 0.6869 - loss: 0.5628 - val_categorical_accuracy: 0.6667 - val_loss: 0.5881\n",
            "Epoch 18/300\n",
            "\u001b[1m3/3\u001b[0m \u001b[32m━━━━━━━━━━━━━━━━━━━━\u001b[0m\u001b[37m\u001b[0m \u001b[1m0s\u001b[0m 45ms/step - categorical_accuracy: 0.7420 - loss: 0.5313 - val_categorical_accuracy: 0.6667 - val_loss: 0.5753\n",
            "Epoch 19/300\n",
            "\u001b[1m3/3\u001b[0m \u001b[32m━━━━━━━━━━━━━━━━━━━━\u001b[0m\u001b[37m\u001b[0m \u001b[1m0s\u001b[0m 45ms/step - categorical_accuracy: 0.6577 - loss: 0.5414 - val_categorical_accuracy: 0.6389 - val_loss: 0.5655\n",
            "Epoch 20/300\n",
            "\u001b[1m3/3\u001b[0m \u001b[32m━━━━━━━━━━━━━━━━━━━━\u001b[0m\u001b[37m\u001b[0m \u001b[1m0s\u001b[0m 53ms/step - categorical_accuracy: 0.6869 - loss: 0.5093 - val_categorical_accuracy: 0.6667 - val_loss: 0.5485\n",
            "Epoch 21/300\n",
            "\u001b[1m3/3\u001b[0m \u001b[32m━━━━━━━━━━━━━━━━━━━━\u001b[0m\u001b[37m\u001b[0m \u001b[1m0s\u001b[0m 45ms/step - categorical_accuracy: 0.7221 - loss: 0.4700 - val_categorical_accuracy: 0.7500 - val_loss: 0.5331\n",
            "Epoch 22/300\n",
            "\u001b[1m3/3\u001b[0m \u001b[32m━━━━━━━━━━━━━━━━━━━━\u001b[0m\u001b[37m\u001b[0m \u001b[1m0s\u001b[0m 51ms/step - categorical_accuracy: 0.7857 - loss: 0.5158 - val_categorical_accuracy: 0.6667 - val_loss: 0.5240\n",
            "Epoch 23/300\n",
            "\u001b[1m3/3\u001b[0m \u001b[32m━━━━━━━━━━━━━━━━━━━━\u001b[0m\u001b[37m\u001b[0m \u001b[1m0s\u001b[0m 43ms/step - categorical_accuracy: 0.7147 - loss: 0.4924 - val_categorical_accuracy: 0.6944 - val_loss: 0.5118\n",
            "Epoch 24/300\n",
            "\u001b[1m3/3\u001b[0m \u001b[32m━━━━━━━━━━━━━━━━━━━━\u001b[0m\u001b[37m\u001b[0m \u001b[1m0s\u001b[0m 44ms/step - categorical_accuracy: 0.8231 - loss: 0.4739 - val_categorical_accuracy: 0.6667 - val_loss: 0.5057\n",
            "Epoch 25/300\n",
            "\u001b[1m3/3\u001b[0m \u001b[32m━━━━━━━━━━━━━━━━━━━━\u001b[0m\u001b[37m\u001b[0m \u001b[1m0s\u001b[0m 44ms/step - categorical_accuracy: 0.7109 - loss: 0.4816 - val_categorical_accuracy: 0.6667 - val_loss: 0.4979\n",
            "Epoch 26/300\n",
            "\u001b[1m3/3\u001b[0m \u001b[32m━━━━━━━━━━━━━━━━━━━━\u001b[0m\u001b[37m\u001b[0m \u001b[1m0s\u001b[0m 63ms/step - categorical_accuracy: 0.7188 - loss: 0.4782 - val_categorical_accuracy: 0.6667 - val_loss: 0.4875\n",
            "Epoch 27/300\n",
            "\u001b[1m3/3\u001b[0m \u001b[32m━━━━━━━━━━━━━━━━━━━━\u001b[0m\u001b[37m\u001b[0m \u001b[1m0s\u001b[0m 71ms/step - categorical_accuracy: 0.7519 - loss: 0.4262 - val_categorical_accuracy: 0.7778 - val_loss: 0.4729\n",
            "Epoch 28/300\n",
            "\u001b[1m3/3\u001b[0m \u001b[32m━━━━━━━━━━━━━━━━━━━━\u001b[0m\u001b[37m\u001b[0m \u001b[1m0s\u001b[0m 54ms/step - categorical_accuracy: 0.8542 - loss: 0.4290 - val_categorical_accuracy: 0.8889 - val_loss: 0.4642\n",
            "Epoch 29/300\n",
            "\u001b[1m3/3\u001b[0m \u001b[32m━━━━━━━━━━━━━━━━━━━━\u001b[0m\u001b[37m\u001b[0m \u001b[1m0s\u001b[0m 48ms/step - categorical_accuracy: 0.9211 - loss: 0.4201 - val_categorical_accuracy: 0.8611 - val_loss: 0.4564\n",
            "Epoch 30/300\n",
            "\u001b[1m3/3\u001b[0m \u001b[32m━━━━━━━━━━━━━━━━━━━━\u001b[0m\u001b[37m\u001b[0m \u001b[1m0s\u001b[0m 48ms/step - categorical_accuracy: 0.8718 - loss: 0.4164 - val_categorical_accuracy: 0.8889 - val_loss: 0.4488\n",
            "Epoch 31/300\n",
            "\u001b[1m3/3\u001b[0m \u001b[32m━━━━━━━━━━━━━━━━━━━━\u001b[0m\u001b[37m\u001b[0m \u001b[1m0s\u001b[0m 48ms/step - categorical_accuracy: 0.9133 - loss: 0.4071 - val_categorical_accuracy: 0.7500 - val_loss: 0.4456\n",
            "Epoch 32/300\n",
            "\u001b[1m3/3\u001b[0m \u001b[32m━━━━━━━━━━━━━━━━━━━━\u001b[0m\u001b[37m\u001b[0m \u001b[1m0s\u001b[0m 46ms/step - categorical_accuracy: 0.8387 - loss: 0.4147 - val_categorical_accuracy: 0.7500 - val_loss: 0.4397\n",
            "Epoch 33/300\n",
            "\u001b[1m3/3\u001b[0m \u001b[32m━━━━━━━━━━━━━━━━━━━━\u001b[0m\u001b[37m\u001b[0m \u001b[1m0s\u001b[0m 51ms/step - categorical_accuracy: 0.8387 - loss: 0.4092 - val_categorical_accuracy: 0.7778 - val_loss: 0.4329\n",
            "Epoch 34/300\n",
            "\u001b[1m3/3\u001b[0m \u001b[32m━━━━━━━━━━━━━━━━━━━━\u001b[0m\u001b[37m\u001b[0m \u001b[1m0s\u001b[0m 44ms/step - categorical_accuracy: 0.8702 - loss: 0.3997 - val_categorical_accuracy: 0.8611 - val_loss: 0.4217\n",
            "Epoch 35/300\n",
            "\u001b[1m3/3\u001b[0m \u001b[32m━━━━━━━━━━━━━━━━━━━━\u001b[0m\u001b[37m\u001b[0m \u001b[1m0s\u001b[0m 46ms/step - categorical_accuracy: 0.8741 - loss: 0.3840 - val_categorical_accuracy: 0.9167 - val_loss: 0.4107\n",
            "Epoch 36/300\n",
            "\u001b[1m3/3\u001b[0m \u001b[32m━━━━━━━━━━━━━━━━━━━━\u001b[0m\u001b[37m\u001b[0m \u001b[1m0s\u001b[0m 50ms/step - categorical_accuracy: 0.8878 - loss: 0.3746 - val_categorical_accuracy: 0.8889 - val_loss: 0.4065\n",
            "Epoch 37/300\n",
            "\u001b[1m3/3\u001b[0m \u001b[32m━━━━━━━━━━━━━━━━━━━━\u001b[0m\u001b[37m\u001b[0m \u001b[1m0s\u001b[0m 46ms/step - categorical_accuracy: 0.9076 - loss: 0.3644 - val_categorical_accuracy: 0.8889 - val_loss: 0.3990\n",
            "Epoch 38/300\n",
            "\u001b[1m3/3\u001b[0m \u001b[32m━━━━━━━━━━━━━━━━━━━━\u001b[0m\u001b[37m\u001b[0m \u001b[1m0s\u001b[0m 47ms/step - categorical_accuracy: 0.9055 - loss: 0.3587 - val_categorical_accuracy: 0.9167 - val_loss: 0.3875\n",
            "Epoch 39/300\n",
            "\u001b[1m3/3\u001b[0m \u001b[32m━━━━━━━━━━━━━━━━━━━━\u001b[0m\u001b[37m\u001b[0m \u001b[1m0s\u001b[0m 41ms/step - categorical_accuracy: 0.9094 - loss: 0.3447 - val_categorical_accuracy: 0.9722 - val_loss: 0.3801\n",
            "Epoch 40/300\n",
            "\u001b[1m3/3\u001b[0m \u001b[32m━━━━━━━━━━━━━━━━━━━━\u001b[0m\u001b[37m\u001b[0m \u001b[1m0s\u001b[0m 40ms/step - categorical_accuracy: 0.9487 - loss: 0.3483 - val_categorical_accuracy: 0.9167 - val_loss: 0.3735\n",
            "Epoch 41/300\n",
            "\u001b[1m3/3\u001b[0m \u001b[32m━━━━━━━━━━━━━━━━━━━━\u001b[0m\u001b[37m\u001b[0m \u001b[1m0s\u001b[0m 47ms/step - categorical_accuracy: 0.9076 - loss: 0.3309 - val_categorical_accuracy: 0.9167 - val_loss: 0.3650\n",
            "Epoch 42/300\n",
            "\u001b[1m3/3\u001b[0m \u001b[32m━━━━━━━━━━━━━━━━━━━━\u001b[0m\u001b[37m\u001b[0m \u001b[1m0s\u001b[0m 43ms/step - categorical_accuracy: 0.9211 - loss: 0.3394 - val_categorical_accuracy: 0.9722 - val_loss: 0.3586\n",
            "Epoch 43/300\n",
            "\u001b[1m3/3\u001b[0m \u001b[32m━━━━━━━━━━━━━━━━━━━━\u001b[0m\u001b[37m\u001b[0m \u001b[1m0s\u001b[0m 47ms/step - categorical_accuracy: 0.9330 - loss: 0.3367 - val_categorical_accuracy: 0.9167 - val_loss: 0.3543\n",
            "Epoch 44/300\n",
            "\u001b[1m3/3\u001b[0m \u001b[32m━━━━━━━━━━━━━━━━━━━━\u001b[0m\u001b[37m\u001b[0m \u001b[1m0s\u001b[0m 60ms/step - categorical_accuracy: 0.9172 - loss: 0.3151 - val_categorical_accuracy: 0.9722 - val_loss: 0.3461\n",
            "Epoch 45/300\n",
            "\u001b[1m3/3\u001b[0m \u001b[32m━━━━━━━━━━━━━━━━━━━━\u001b[0m\u001b[37m\u001b[0m \u001b[1m0s\u001b[0m 38ms/step - categorical_accuracy: 0.9427 - loss: 0.3252 - val_categorical_accuracy: 0.9722 - val_loss: 0.3398\n",
            "Epoch 46/300\n",
            "\u001b[1m3/3\u001b[0m \u001b[32m━━━━━━━━━━━━━━━━━━━━\u001b[0m\u001b[37m\u001b[0m \u001b[1m0s\u001b[0m 58ms/step - categorical_accuracy: 0.9468 - loss: 0.3131 - val_categorical_accuracy: 0.9167 - val_loss: 0.3392\n",
            "Epoch 47/300\n",
            "\u001b[1m3/3\u001b[0m \u001b[32m━━━━━━━━━━━━━━━━━━━━\u001b[0m\u001b[37m\u001b[0m \u001b[1m0s\u001b[0m 51ms/step - categorical_accuracy: 0.9133 - loss: 0.2988 - val_categorical_accuracy: 0.9722 - val_loss: 0.3277\n",
            "Epoch 48/300\n",
            "\u001b[1m3/3\u001b[0m \u001b[32m━━━━━━━━━━━━━━━━━━━━\u001b[0m\u001b[37m\u001b[0m \u001b[1m0s\u001b[0m 72ms/step - categorical_accuracy: 0.9408 - loss: 0.3009 - val_categorical_accuracy: 0.9722 - val_loss: 0.3215\n",
            "Epoch 49/300\n",
            "\u001b[1m3/3\u001b[0m \u001b[32m━━━━━━━━━━━━━━━━━━━━\u001b[0m\u001b[37m\u001b[0m \u001b[1m0s\u001b[0m 44ms/step - categorical_accuracy: 0.9565 - loss: 0.2979 - val_categorical_accuracy: 0.9722 - val_loss: 0.3159\n",
            "Epoch 50/300\n",
            "\u001b[1m3/3\u001b[0m \u001b[32m━━━━━━━━━━━━━━━━━━━━\u001b[0m\u001b[37m\u001b[0m \u001b[1m0s\u001b[0m 51ms/step - categorical_accuracy: 0.9546 - loss: 0.2952 - val_categorical_accuracy: 0.9722 - val_loss: 0.3115\n",
            "Epoch 51/300\n",
            "\u001b[1m3/3\u001b[0m \u001b[32m━━━━━━━━━━━━━━━━━━━━\u001b[0m\u001b[37m\u001b[0m \u001b[1m0s\u001b[0m 61ms/step - categorical_accuracy: 0.9429 - loss: 0.2937 - val_categorical_accuracy: 0.9722 - val_loss: 0.3069\n",
            "Epoch 52/300\n",
            "\u001b[1m3/3\u001b[0m \u001b[32m━━━━━━━━━━━━━━━━━━━━\u001b[0m\u001b[37m\u001b[0m \u001b[1m0s\u001b[0m 47ms/step - categorical_accuracy: 0.9291 - loss: 0.2913 - val_categorical_accuracy: 0.9167 - val_loss: 0.3062\n",
            "Epoch 53/300\n",
            "\u001b[1m3/3\u001b[0m \u001b[32m━━━━━━━━━━━━━━━━━━━━\u001b[0m\u001b[37m\u001b[0m \u001b[1m0s\u001b[0m 46ms/step - categorical_accuracy: 0.9271 - loss: 0.2723 - val_categorical_accuracy: 0.9722 - val_loss: 0.2962\n",
            "Epoch 54/300\n",
            "\u001b[1m3/3\u001b[0m \u001b[32m━━━━━━━━━━━━━━━━━━━━\u001b[0m\u001b[37m\u001b[0m \u001b[1m0s\u001b[0m 70ms/step - categorical_accuracy: 0.9115 - loss: 0.2872 - val_categorical_accuracy: 0.9722 - val_loss: 0.2928\n",
            "Epoch 55/300\n",
            "\u001b[1m3/3\u001b[0m \u001b[32m━━━━━━━━━━━━━━━━━━━━\u001b[0m\u001b[37m\u001b[0m \u001b[1m0s\u001b[0m 48ms/step - categorical_accuracy: 0.9211 - loss: 0.2658 - val_categorical_accuracy: 0.9722 - val_loss: 0.2861\n",
            "Epoch 56/300\n",
            "\u001b[1m3/3\u001b[0m \u001b[32m━━━━━━━━━━━━━━━━━━━━\u001b[0m\u001b[37m\u001b[0m \u001b[1m0s\u001b[0m 46ms/step - categorical_accuracy: 0.9782 - loss: 0.2559 - val_categorical_accuracy: 0.9167 - val_loss: 0.2845\n",
            "Epoch 57/300\n",
            "\u001b[1m3/3\u001b[0m \u001b[32m━━━━━━━━━━━━━━━━━━━━\u001b[0m\u001b[37m\u001b[0m \u001b[1m0s\u001b[0m 52ms/step - categorical_accuracy: 0.8997 - loss: 0.2701 - val_categorical_accuracy: 0.9167 - val_loss: 0.2810\n",
            "Epoch 58/300\n",
            "\u001b[1m3/3\u001b[0m \u001b[32m━━━━━━━━━━━━━━━━━━━━\u001b[0m\u001b[37m\u001b[0m \u001b[1m0s\u001b[0m 48ms/step - categorical_accuracy: 0.9213 - loss: 0.2693 - val_categorical_accuracy: 0.9722 - val_loss: 0.2718\n",
            "Epoch 59/300\n",
            "\u001b[1m3/3\u001b[0m \u001b[32m━━━━━━━━━━━━━━━━━━━━\u001b[0m\u001b[37m\u001b[0m \u001b[1m0s\u001b[0m 45ms/step - categorical_accuracy: 0.9076 - loss: 0.2574 - val_categorical_accuracy: 0.9722 - val_loss: 0.2660\n",
            "Epoch 60/300\n",
            "\u001b[1m3/3\u001b[0m \u001b[32m━━━━━━━━━━━━━━━━━━━━\u001b[0m\u001b[37m\u001b[0m \u001b[1m0s\u001b[0m 45ms/step - categorical_accuracy: 0.9252 - loss: 0.2529 - val_categorical_accuracy: 0.9722 - val_loss: 0.2631\n",
            "Epoch 61/300\n",
            "\u001b[1m3/3\u001b[0m \u001b[32m━━━━━━━━━━━━━━━━━━━━\u001b[0m\u001b[37m\u001b[0m \u001b[1m0s\u001b[0m 55ms/step - categorical_accuracy: 0.9429 - loss: 0.2483 - val_categorical_accuracy: 0.9444 - val_loss: 0.2618\n",
            "Epoch 62/300\n",
            "\u001b[1m3/3\u001b[0m \u001b[32m━━━━━━━━━━━━━━━━━━━━\u001b[0m\u001b[37m\u001b[0m \u001b[1m0s\u001b[0m 49ms/step - categorical_accuracy: 0.9135 - loss: 0.2496 - val_categorical_accuracy: 0.9722 - val_loss: 0.2554\n",
            "Epoch 63/300\n",
            "\u001b[1m3/3\u001b[0m \u001b[32m━━━━━━━━━━━━━━━━━━━━\u001b[0m\u001b[37m\u001b[0m \u001b[1m0s\u001b[0m 53ms/step - categorical_accuracy: 0.9429 - loss: 0.2289 - val_categorical_accuracy: 0.9167 - val_loss: 0.2578\n",
            "Epoch 64/300\n",
            "\u001b[1m3/3\u001b[0m \u001b[32m━━━━━━━━━━━━━━━━━━━━\u001b[0m\u001b[37m\u001b[0m \u001b[1m0s\u001b[0m 52ms/step - categorical_accuracy: 0.8919 - loss: 0.2475 - val_categorical_accuracy: 0.9722 - val_loss: 0.2443\n",
            "Epoch 65/300\n",
            "\u001b[1m3/3\u001b[0m \u001b[32m━━━━━━━━━━━━━━━━━━━━\u001b[0m\u001b[37m\u001b[0m \u001b[1m0s\u001b[0m 45ms/step - categorical_accuracy: 0.9528 - loss: 0.2261 - val_categorical_accuracy: 0.9722 - val_loss: 0.2402\n",
            "Epoch 66/300\n",
            "\u001b[1m3/3\u001b[0m \u001b[32m━━━━━━━━━━━━━━━━━━━━\u001b[0m\u001b[37m\u001b[0m \u001b[1m0s\u001b[0m 47ms/step - categorical_accuracy: 0.9488 - loss: 0.2319 - val_categorical_accuracy: 0.9722 - val_loss: 0.2370\n",
            "Epoch 67/300\n",
            "\u001b[1m3/3\u001b[0m \u001b[32m━━━━━━━━━━━━━━━━━━━━\u001b[0m\u001b[37m\u001b[0m \u001b[1m0s\u001b[0m 61ms/step - categorical_accuracy: 0.9390 - loss: 0.2256 - val_categorical_accuracy: 0.9722 - val_loss: 0.2318\n",
            "Epoch 68/300\n",
            "\u001b[1m3/3\u001b[0m \u001b[32m━━━━━━━━━━━━━━━━━━━━\u001b[0m\u001b[37m\u001b[0m \u001b[1m0s\u001b[0m 75ms/step - categorical_accuracy: 0.9410 - loss: 0.2205 - val_categorical_accuracy: 0.9722 - val_loss: 0.2287\n",
            "Epoch 69/300\n",
            "\u001b[1m3/3\u001b[0m \u001b[32m━━━━━━━━━━━━━━━━━━━━\u001b[0m\u001b[37m\u001b[0m \u001b[1m0s\u001b[0m 83ms/step - categorical_accuracy: 0.9626 - loss: 0.2055 - val_categorical_accuracy: 0.9444 - val_loss: 0.2308\n",
            "Epoch 70/300\n",
            "\u001b[1m3/3\u001b[0m \u001b[32m━━━━━━━━━━━━━━━━━━━━\u001b[0m\u001b[37m\u001b[0m \u001b[1m0s\u001b[0m 65ms/step - categorical_accuracy: 0.9408 - loss: 0.2037 - val_categorical_accuracy: 0.9722 - val_loss: 0.2199\n",
            "Epoch 71/300\n",
            "\u001b[1m3/3\u001b[0m \u001b[32m━━━━━━━━━━━━━━━━━━━━\u001b[0m\u001b[37m\u001b[0m \u001b[1m0s\u001b[0m 75ms/step - categorical_accuracy: 0.9371 - loss: 0.2174 - val_categorical_accuracy: 0.9444 - val_loss: 0.2255\n",
            "Epoch 72/300\n",
            "\u001b[1m3/3\u001b[0m \u001b[32m━━━━━━━━━━━━━━━━━━━━\u001b[0m\u001b[37m\u001b[0m \u001b[1m0s\u001b[0m 133ms/step - categorical_accuracy: 0.9429 - loss: 0.1985 - val_categorical_accuracy: 0.9722 - val_loss: 0.2122\n",
            "Epoch 73/300\n",
            "\u001b[1m3/3\u001b[0m \u001b[32m━━━━━━━━━━━━━━━━━━━━\u001b[0m\u001b[37m\u001b[0m \u001b[1m0s\u001b[0m 93ms/step - categorical_accuracy: 0.9449 - loss: 0.2144 - val_categorical_accuracy: 0.9722 - val_loss: 0.2101\n",
            "Epoch 74/300\n",
            "\u001b[1m3/3\u001b[0m \u001b[32m━━━━━━━━━━━━━━━━━━━━\u001b[0m\u001b[37m\u001b[0m \u001b[1m0s\u001b[0m 76ms/step - categorical_accuracy: 0.9507 - loss: 0.1823 - val_categorical_accuracy: 0.9444 - val_loss: 0.2115\n",
            "Epoch 75/300\n",
            "\u001b[1m3/3\u001b[0m \u001b[32m━━━━━━━━━━━━━━━━━━━━\u001b[0m\u001b[37m\u001b[0m \u001b[1m0s\u001b[0m 78ms/step - categorical_accuracy: 0.9390 - loss: 0.2090 - val_categorical_accuracy: 0.9444 - val_loss: 0.2055\n",
            "Epoch 76/300\n",
            "\u001b[1m3/3\u001b[0m \u001b[32m━━━━━━━━━━━━━━━━━━━━\u001b[0m\u001b[37m\u001b[0m \u001b[1m0s\u001b[0m 49ms/step - categorical_accuracy: 0.9488 - loss: 0.1945 - val_categorical_accuracy: 0.9722 - val_loss: 0.1988\n",
            "Epoch 77/300\n",
            "\u001b[1m3/3\u001b[0m \u001b[32m━━━━━━━━━━━━━━━━━━━━\u001b[0m\u001b[37m\u001b[0m \u001b[1m0s\u001b[0m 39ms/step - categorical_accuracy: 0.9330 - loss: 0.2040 - val_categorical_accuracy: 0.9444 - val_loss: 0.2012\n",
            "Epoch 78/300\n",
            "\u001b[1m3/3\u001b[0m \u001b[32m━━━━━━━━━━━━━━━━━━━━\u001b[0m\u001b[37m\u001b[0m \u001b[1m0s\u001b[0m 40ms/step - categorical_accuracy: 0.9624 - loss: 0.1942 - val_categorical_accuracy: 0.9722 - val_loss: 0.1944\n",
            "Epoch 79/300\n",
            "\u001b[1m3/3\u001b[0m \u001b[32m━━━━━━━━━━━━━━━━━━━━\u001b[0m\u001b[37m\u001b[0m \u001b[1m0s\u001b[0m 56ms/step - categorical_accuracy: 0.9410 - loss: 0.1916 - val_categorical_accuracy: 0.9444 - val_loss: 0.1932\n",
            "Epoch 80/300\n",
            "\u001b[1m3/3\u001b[0m \u001b[32m━━━━━━━━━━━━━━━━━━━━\u001b[0m\u001b[37m\u001b[0m \u001b[1m0s\u001b[0m 50ms/step - categorical_accuracy: 0.9410 - loss: 0.1906 - val_categorical_accuracy: 1.0000 - val_loss: 0.1886\n",
            "Epoch 81/300\n",
            "\u001b[1m3/3\u001b[0m \u001b[32m━━━━━━━━━━━━━━━━━━━━\u001b[0m\u001b[37m\u001b[0m \u001b[1m0s\u001b[0m 46ms/step - categorical_accuracy: 0.9587 - loss: 0.1947 - val_categorical_accuracy: 0.9722 - val_loss: 0.1873\n",
            "Epoch 82/300\n",
            "\u001b[1m3/3\u001b[0m \u001b[32m━━━━━━━━━━━━━━━━━━━━\u001b[0m\u001b[37m\u001b[0m \u001b[1m0s\u001b[0m 62ms/step - categorical_accuracy: 0.9371 - loss: 0.1945 - val_categorical_accuracy: 1.0000 - val_loss: 0.1836\n",
            "Epoch 83/300\n",
            "\u001b[1m3/3\u001b[0m \u001b[32m━━━━━━━━━━━━━━━━━━━━\u001b[0m\u001b[37m\u001b[0m \u001b[1m0s\u001b[0m 48ms/step - categorical_accuracy: 0.9371 - loss: 0.1863 - val_categorical_accuracy: 0.9722 - val_loss: 0.1806\n",
            "Epoch 84/300\n",
            "\u001b[1m3/3\u001b[0m \u001b[32m━━━━━━━━━━━━━━━━━━━━\u001b[0m\u001b[37m\u001b[0m \u001b[1m0s\u001b[0m 45ms/step - categorical_accuracy: 0.9174 - loss: 0.1865 - val_categorical_accuracy: 0.9722 - val_loss: 0.1773\n",
            "Epoch 85/300\n",
            "\u001b[1m3/3\u001b[0m \u001b[32m━━━━━━━━━━━━━━━━━━━━\u001b[0m\u001b[37m\u001b[0m \u001b[1m0s\u001b[0m 49ms/step - categorical_accuracy: 0.9645 - loss: 0.1606 - val_categorical_accuracy: 0.9722 - val_loss: 0.1745\n",
            "Epoch 86/300\n",
            "\u001b[1m3/3\u001b[0m \u001b[32m━━━━━━━━━━━━━━━━━━━━\u001b[0m\u001b[37m\u001b[0m \u001b[1m0s\u001b[0m 44ms/step - categorical_accuracy: 0.9528 - loss: 0.1651 - val_categorical_accuracy: 0.9722 - val_loss: 0.1725\n",
            "Epoch 87/300\n",
            "\u001b[1m3/3\u001b[0m \u001b[32m━━━━━━━━━━━━━━━━━━━━\u001b[0m\u001b[37m\u001b[0m \u001b[1m0s\u001b[0m 47ms/step - categorical_accuracy: 0.9881 - loss: 0.1538 - val_categorical_accuracy: 0.9722 - val_loss: 0.1693\n",
            "Epoch 88/300\n",
            "\u001b[1m3/3\u001b[0m \u001b[32m━━━━━━━━━━━━━━━━━━━━\u001b[0m\u001b[37m\u001b[0m \u001b[1m0s\u001b[0m 48ms/step - categorical_accuracy: 0.9567 - loss: 0.1552 - val_categorical_accuracy: 0.9722 - val_loss: 0.1684\n",
            "Epoch 89/300\n",
            "\u001b[1m3/3\u001b[0m \u001b[32m━━━━━━━━━━━━━━━━━━━━\u001b[0m\u001b[37m\u001b[0m \u001b[1m0s\u001b[0m 45ms/step - categorical_accuracy: 0.9546 - loss: 0.1645 - val_categorical_accuracy: 0.9444 - val_loss: 0.1720\n",
            "Epoch 90/300\n",
            "\u001b[1m3/3\u001b[0m \u001b[32m━━━━━━━━━━━━━━━━━━━━\u001b[0m\u001b[37m\u001b[0m \u001b[1m0s\u001b[0m 44ms/step - categorical_accuracy: 0.9743 - loss: 0.1601 - val_categorical_accuracy: 0.9722 - val_loss: 0.1644\n",
            "Epoch 91/300\n",
            "\u001b[1m3/3\u001b[0m \u001b[32m━━━━━━━━━━━━━━━━━━━━\u001b[0m\u001b[37m\u001b[0m \u001b[1m0s\u001b[0m 61ms/step - categorical_accuracy: 0.9528 - loss: 0.1597 - val_categorical_accuracy: 0.9722 - val_loss: 0.1593\n",
            "Epoch 92/300\n",
            "\u001b[1m3/3\u001b[0m \u001b[32m━━━━━━━━━━━━━━━━━━━━\u001b[0m\u001b[37m\u001b[0m \u001b[1m0s\u001b[0m 53ms/step - categorical_accuracy: 0.9293 - loss: 0.1692 - val_categorical_accuracy: 0.9722 - val_loss: 0.1567\n",
            "Epoch 93/300\n",
            "\u001b[1m3/3\u001b[0m \u001b[32m━━━━━━━━━━━━━━━━━━━━\u001b[0m\u001b[37m\u001b[0m \u001b[1m0s\u001b[0m 46ms/step - categorical_accuracy: 0.9488 - loss: 0.1525 - val_categorical_accuracy: 1.0000 - val_loss: 0.1558\n",
            "Epoch 94/300\n",
            "\u001b[1m3/3\u001b[0m \u001b[32m━━━━━━━━━━━━━━━━━━━━\u001b[0m\u001b[37m\u001b[0m \u001b[1m0s\u001b[0m 46ms/step - categorical_accuracy: 0.9449 - loss: 0.1565 - val_categorical_accuracy: 0.9722 - val_loss: 0.1533\n",
            "Epoch 95/300\n",
            "\u001b[1m3/3\u001b[0m \u001b[32m━━━━━━━━━━━━━━━━━━━━\u001b[0m\u001b[37m\u001b[0m \u001b[1m0s\u001b[0m 49ms/step - categorical_accuracy: 0.9390 - loss: 0.1575 - val_categorical_accuracy: 0.9722 - val_loss: 0.1494\n",
            "Epoch 96/300\n",
            "\u001b[1m3/3\u001b[0m \u001b[32m━━━━━━━━━━━━━━━━━━━━\u001b[0m\u001b[37m\u001b[0m \u001b[1m0s\u001b[0m 46ms/step - categorical_accuracy: 0.9704 - loss: 0.1498 - val_categorical_accuracy: 1.0000 - val_loss: 0.1502\n",
            "Epoch 97/300\n",
            "\u001b[1m3/3\u001b[0m \u001b[32m━━━━━━━━━━━━━━━━━━━━\u001b[0m\u001b[37m\u001b[0m \u001b[1m0s\u001b[0m 53ms/step - categorical_accuracy: 0.9135 - loss: 0.1587 - val_categorical_accuracy: 0.9722 - val_loss: 0.1515\n",
            "Epoch 98/300\n",
            "\u001b[1m3/3\u001b[0m \u001b[32m━━━━━━━━━━━━━━━━━━━━\u001b[0m\u001b[37m\u001b[0m \u001b[1m0s\u001b[0m 44ms/step - categorical_accuracy: 0.9351 - loss: 0.1617 - val_categorical_accuracy: 0.9722 - val_loss: 0.1482\n",
            "Epoch 99/300\n",
            "\u001b[1m3/3\u001b[0m \u001b[32m━━━━━━━━━━━━━━━━━━━━\u001b[0m\u001b[37m\u001b[0m \u001b[1m0s\u001b[0m 67ms/step - categorical_accuracy: 0.9390 - loss: 0.1487 - val_categorical_accuracy: 0.9722 - val_loss: 0.1446\n",
            "Epoch 100/300\n",
            "\u001b[1m3/3\u001b[0m \u001b[32m━━━━━━━━━━━━━━━━━━━━\u001b[0m\u001b[37m\u001b[0m \u001b[1m0s\u001b[0m 50ms/step - categorical_accuracy: 0.9626 - loss: 0.1260 - val_categorical_accuracy: 0.9722 - val_loss: 0.1409\n",
            "Epoch 101/300\n",
            "\u001b[1m3/3\u001b[0m \u001b[32m━━━━━━━━━━━━━━━━━━━━\u001b[0m\u001b[37m\u001b[0m \u001b[1m0s\u001b[0m 47ms/step - categorical_accuracy: 0.9528 - loss: 0.1309 - val_categorical_accuracy: 0.9722 - val_loss: 0.1407\n",
            "Epoch 102/300\n",
            "\u001b[1m3/3\u001b[0m \u001b[32m━━━━━━━━━━━━━━━━━━━━\u001b[0m\u001b[37m\u001b[0m \u001b[1m0s\u001b[0m 45ms/step - categorical_accuracy: 0.9606 - loss: 0.1298 - val_categorical_accuracy: 1.0000 - val_loss: 0.1382\n",
            "Epoch 103/300\n",
            "\u001b[1m3/3\u001b[0m \u001b[32m━━━━━━━━━━━━━━━━━━━━\u001b[0m\u001b[37m\u001b[0m \u001b[1m0s\u001b[0m 52ms/step - categorical_accuracy: 0.9567 - loss: 0.1358 - val_categorical_accuracy: 1.0000 - val_loss: 0.1394\n",
            "Epoch 104/300\n",
            "\u001b[1m3/3\u001b[0m \u001b[32m━━━━━━━━━━━━━━━━━━━━\u001b[0m\u001b[37m\u001b[0m \u001b[1m0s\u001b[0m 50ms/step - categorical_accuracy: 0.9567 - loss: 0.1497 - val_categorical_accuracy: 0.9722 - val_loss: 0.1346\n",
            "Epoch 105/300\n",
            "\u001b[1m3/3\u001b[0m \u001b[32m━━━━━━━━━━━━━━━━━━━━\u001b[0m\u001b[37m\u001b[0m \u001b[1m0s\u001b[0m 69ms/step - categorical_accuracy: 0.9507 - loss: 0.1329 - val_categorical_accuracy: 0.9444 - val_loss: 0.1405\n",
            "Epoch 106/300\n",
            "\u001b[1m3/3\u001b[0m \u001b[32m━━━━━━━━━━━━━━━━━━━━\u001b[0m\u001b[37m\u001b[0m \u001b[1m0s\u001b[0m 53ms/step - categorical_accuracy: 0.9743 - loss: 0.1451 - val_categorical_accuracy: 0.9722 - val_loss: 0.1337\n",
            "Epoch 107/300\n",
            "\u001b[1m3/3\u001b[0m \u001b[32m━━━━━━━━━━━━━━━━━━━━\u001b[0m\u001b[37m\u001b[0m \u001b[1m0s\u001b[0m 49ms/step - categorical_accuracy: 0.9645 - loss: 0.1344 - val_categorical_accuracy: 0.9722 - val_loss: 0.1310\n",
            "Epoch 108/300\n",
            "\u001b[1m3/3\u001b[0m \u001b[32m━━━━━━━━━━━━━━━━━━━━\u001b[0m\u001b[37m\u001b[0m \u001b[1m0s\u001b[0m 44ms/step - categorical_accuracy: 0.9528 - loss: 0.1308 - val_categorical_accuracy: 1.0000 - val_loss: 0.1297\n",
            "Epoch 109/300\n",
            "\u001b[1m3/3\u001b[0m \u001b[32m━━━━━━━━━━━━━━━━━━━━\u001b[0m\u001b[37m\u001b[0m \u001b[1m0s\u001b[0m 51ms/step - categorical_accuracy: 0.9410 - loss: 0.1436 - val_categorical_accuracy: 0.9444 - val_loss: 0.1342\n",
            "Epoch 110/300\n",
            "\u001b[1m3/3\u001b[0m \u001b[32m━━━━━━━━━━━━━━━━━━━━\u001b[0m\u001b[37m\u001b[0m \u001b[1m0s\u001b[0m 49ms/step - categorical_accuracy: 0.9723 - loss: 0.1269 - val_categorical_accuracy: 0.9444 - val_loss: 0.1386\n",
            "Epoch 111/300\n",
            "\u001b[1m3/3\u001b[0m \u001b[32m━━━━━━━━━━━━━━━━━━━━\u001b[0m\u001b[37m\u001b[0m \u001b[1m0s\u001b[0m 48ms/step - categorical_accuracy: 0.9567 - loss: 0.1364 - val_categorical_accuracy: 0.9722 - val_loss: 0.1297\n",
            "Epoch 112/300\n",
            "\u001b[1m3/3\u001b[0m \u001b[32m━━━━━━━━━━━━━━━━━━━━\u001b[0m\u001b[37m\u001b[0m \u001b[1m0s\u001b[0m 45ms/step - categorical_accuracy: 0.9782 - loss: 0.1253 - val_categorical_accuracy: 1.0000 - val_loss: 0.1247\n",
            "Epoch 113/300\n",
            "\u001b[1m3/3\u001b[0m \u001b[32m━━━━━━━━━━━━━━━━━━━━\u001b[0m\u001b[37m\u001b[0m \u001b[1m0s\u001b[0m 63ms/step - categorical_accuracy: 0.9606 - loss: 0.1259 - val_categorical_accuracy: 0.9722 - val_loss: 0.1231\n",
            "Epoch 114/300\n",
            "\u001b[1m3/3\u001b[0m \u001b[32m━━━━━━━━━━━━━━━━━━━━\u001b[0m\u001b[37m\u001b[0m \u001b[1m0s\u001b[0m 46ms/step - categorical_accuracy: 0.9567 - loss: 0.1337 - val_categorical_accuracy: 0.9722 - val_loss: 0.1216\n",
            "Epoch 115/300\n",
            "\u001b[1m3/3\u001b[0m \u001b[32m━━━━━━━━━━━━━━━━━━━━\u001b[0m\u001b[37m\u001b[0m \u001b[1m0s\u001b[0m 54ms/step - categorical_accuracy: 0.9488 - loss: 0.1232 - val_categorical_accuracy: 0.9722 - val_loss: 0.1207\n",
            "Epoch 116/300\n",
            "\u001b[1m3/3\u001b[0m \u001b[32m━━━━━━━━━━━━━━━━━━━━\u001b[0m\u001b[37m\u001b[0m \u001b[1m0s\u001b[0m 66ms/step - categorical_accuracy: 0.9606 - loss: 0.1263 - val_categorical_accuracy: 0.9444 - val_loss: 0.1340\n",
            "Epoch 117/300\n",
            "\u001b[1m3/3\u001b[0m \u001b[32m━━━━━━━━━━━━━━━━━━━━\u001b[0m\u001b[37m\u001b[0m \u001b[1m0s\u001b[0m 46ms/step - categorical_accuracy: 0.9764 - loss: 0.1303 - val_categorical_accuracy: 0.9722 - val_loss: 0.1183\n",
            "Epoch 118/300\n",
            "\u001b[1m3/3\u001b[0m \u001b[32m━━━━━━━━━━━━━━━━━━━━\u001b[0m\u001b[37m\u001b[0m \u001b[1m0s\u001b[0m 47ms/step - categorical_accuracy: 0.9488 - loss: 0.1124 - val_categorical_accuracy: 0.9444 - val_loss: 0.1251\n",
            "Epoch 119/300\n",
            "\u001b[1m3/3\u001b[0m \u001b[32m━━━━━━━━━━━━━━━━━━━━\u001b[0m\u001b[37m\u001b[0m \u001b[1m0s\u001b[0m 47ms/step - categorical_accuracy: 0.9842 - loss: 0.1114 - val_categorical_accuracy: 1.0000 - val_loss: 0.1165\n",
            "Epoch 120/300\n",
            "\u001b[1m3/3\u001b[0m \u001b[32m━━━━━━━━━━━━━━━━━━━━\u001b[0m\u001b[37m\u001b[0m \u001b[1m0s\u001b[0m 45ms/step - categorical_accuracy: 0.9429 - loss: 0.1326 - val_categorical_accuracy: 0.9722 - val_loss: 0.1167\n",
            "Epoch 121/300\n",
            "\u001b[1m3/3\u001b[0m \u001b[32m━━━━━━━━━━━━━━━━━━━━\u001b[0m\u001b[37m\u001b[0m \u001b[1m0s\u001b[0m 73ms/step - categorical_accuracy: 0.9507 - loss: 0.1145 - val_categorical_accuracy: 0.9722 - val_loss: 0.1146\n",
            "Epoch 122/300\n",
            "\u001b[1m3/3\u001b[0m \u001b[32m━━━━━━━━━━━━━━━━━━━━\u001b[0m\u001b[37m\u001b[0m \u001b[1m0s\u001b[0m 52ms/step - categorical_accuracy: 0.9488 - loss: 0.1235 - val_categorical_accuracy: 0.9722 - val_loss: 0.1126\n",
            "Epoch 123/300\n",
            "\u001b[1m3/3\u001b[0m \u001b[32m━━━━━━━━━━━━━━━━━━━━\u001b[0m\u001b[37m\u001b[0m \u001b[1m0s\u001b[0m 47ms/step - categorical_accuracy: 0.9528 - loss: 0.1208 - val_categorical_accuracy: 0.9722 - val_loss: 0.1113\n",
            "Epoch 124/300\n",
            "\u001b[1m3/3\u001b[0m \u001b[32m━━━━━━━━━━━━━━━━━━━━\u001b[0m\u001b[37m\u001b[0m \u001b[1m0s\u001b[0m 48ms/step - categorical_accuracy: 0.9645 - loss: 0.1025 - val_categorical_accuracy: 0.9722 - val_loss: 0.1131\n",
            "Epoch 125/300\n",
            "\u001b[1m3/3\u001b[0m \u001b[32m━━━━━━━━━━━━━━━━━━━━\u001b[0m\u001b[37m\u001b[0m \u001b[1m0s\u001b[0m 46ms/step - categorical_accuracy: 0.9488 - loss: 0.1212 - val_categorical_accuracy: 0.9722 - val_loss: 0.1093\n",
            "Epoch 126/300\n",
            "\u001b[1m3/3\u001b[0m \u001b[32m━━━━━━━━━━━━━━━━━━━━\u001b[0m\u001b[37m\u001b[0m \u001b[1m0s\u001b[0m 45ms/step - categorical_accuracy: 0.9665 - loss: 0.1202 - val_categorical_accuracy: 0.9722 - val_loss: 0.1126\n",
            "Epoch 127/300\n",
            "\u001b[1m3/3\u001b[0m \u001b[32m━━━━━━━━━━━━━━━━━━━━\u001b[0m\u001b[37m\u001b[0m \u001b[1m0s\u001b[0m 46ms/step - categorical_accuracy: 0.9665 - loss: 0.1213 - val_categorical_accuracy: 0.9722 - val_loss: 0.1083\n",
            "Epoch 128/300\n",
            "\u001b[1m3/3\u001b[0m \u001b[32m━━━━━━━━━━━━━━━━━━━━\u001b[0m\u001b[37m\u001b[0m \u001b[1m0s\u001b[0m 50ms/step - categorical_accuracy: 0.9371 - loss: 0.1350 - val_categorical_accuracy: 0.9722 - val_loss: 0.1060\n",
            "Epoch 129/300\n",
            "\u001b[1m3/3\u001b[0m \u001b[32m━━━━━━━━━━━━━━━━━━━━\u001b[0m\u001b[37m\u001b[0m \u001b[1m0s\u001b[0m 72ms/step - categorical_accuracy: 0.9351 - loss: 0.1304 - val_categorical_accuracy: 0.9722 - val_loss: 0.1120\n",
            "Epoch 130/300\n",
            "\u001b[1m3/3\u001b[0m \u001b[32m━━━━━━━━━━━━━━━━━━━━\u001b[0m\u001b[37m\u001b[0m \u001b[1m0s\u001b[0m 48ms/step - categorical_accuracy: 0.9567 - loss: 0.1223 - val_categorical_accuracy: 0.9722 - val_loss: 0.1043\n",
            "Epoch 131/300\n",
            "\u001b[1m3/3\u001b[0m \u001b[32m━━━━━━━━━━━━━━━━━━━━\u001b[0m\u001b[37m\u001b[0m \u001b[1m0s\u001b[0m 47ms/step - categorical_accuracy: 0.9548 - loss: 0.1225 - val_categorical_accuracy: 0.9722 - val_loss: 0.1029\n",
            "Epoch 132/300\n",
            "\u001b[1m3/3\u001b[0m \u001b[32m━━━━━━━━━━━━━━━━━━━━\u001b[0m\u001b[37m\u001b[0m \u001b[1m0s\u001b[0m 45ms/step - categorical_accuracy: 0.9449 - loss: 0.1247 - val_categorical_accuracy: 0.9722 - val_loss: 0.1053\n",
            "Epoch 133/300\n",
            "\u001b[1m3/3\u001b[0m \u001b[32m━━━━━━━━━━━━━━━━━━━━\u001b[0m\u001b[37m\u001b[0m \u001b[1m0s\u001b[0m 49ms/step - categorical_accuracy: 0.9684 - loss: 0.0959 - val_categorical_accuracy: 0.9722 - val_loss: 0.1055\n",
            "Epoch 134/300\n",
            "\u001b[1m3/3\u001b[0m \u001b[32m━━━━━━━━━━━━━━━━━━━━\u001b[0m\u001b[37m\u001b[0m \u001b[1m0s\u001b[0m 51ms/step - categorical_accuracy: 0.9351 - loss: 0.1290 - val_categorical_accuracy: 0.9722 - val_loss: 0.1092\n",
            "Epoch 135/300\n",
            "\u001b[1m3/3\u001b[0m \u001b[32m━━━━━━━━━━━━━━━━━━━━\u001b[0m\u001b[37m\u001b[0m \u001b[1m0s\u001b[0m 54ms/step - categorical_accuracy: 0.9704 - loss: 0.1045 - val_categorical_accuracy: 0.9722 - val_loss: 0.0994\n",
            "Epoch 136/300\n",
            "\u001b[1m3/3\u001b[0m \u001b[32m━━━━━━━━━━━━━━━━━━━━\u001b[0m\u001b[37m\u001b[0m \u001b[1m0s\u001b[0m 49ms/step - categorical_accuracy: 0.9449 - loss: 0.1133 - val_categorical_accuracy: 0.9722 - val_loss: 0.0988\n",
            "Epoch 137/300\n",
            "\u001b[1m3/3\u001b[0m \u001b[32m━━━━━━━━━━━━━━━━━━━━\u001b[0m\u001b[37m\u001b[0m \u001b[1m0s\u001b[0m 63ms/step - categorical_accuracy: 0.9273 - loss: 0.1304 - val_categorical_accuracy: 0.9722 - val_loss: 0.0973\n",
            "Epoch 138/300\n",
            "\u001b[1m3/3\u001b[0m \u001b[32m━━━━━━━━━━━━━━━━━━━━\u001b[0m\u001b[37m\u001b[0m \u001b[1m0s\u001b[0m 76ms/step - categorical_accuracy: 0.9528 - loss: 0.1105 - val_categorical_accuracy: 0.9722 - val_loss: 0.1004\n",
            "Epoch 139/300\n",
            "\u001b[1m3/3\u001b[0m \u001b[32m━━━━━━━━━━━━━━━━━━━━\u001b[0m\u001b[37m\u001b[0m \u001b[1m0s\u001b[0m 71ms/step - categorical_accuracy: 0.9449 - loss: 0.1160 - val_categorical_accuracy: 0.9722 - val_loss: 0.0987\n",
            "Epoch 140/300\n",
            "\u001b[1m3/3\u001b[0m \u001b[32m━━━━━━━━━━━━━━━━━━━━\u001b[0m\u001b[37m\u001b[0m \u001b[1m0s\u001b[0m 91ms/step - categorical_accuracy: 0.9548 - loss: 0.1029 - val_categorical_accuracy: 1.0000 - val_loss: 0.0961\n",
            "Epoch 141/300\n",
            "\u001b[1m3/3\u001b[0m \u001b[32m━━━━━━━━━━━━━━━━━━━━\u001b[0m\u001b[37m\u001b[0m \u001b[1m0s\u001b[0m 72ms/step - categorical_accuracy: 0.9351 - loss: 0.1103 - val_categorical_accuracy: 0.9722 - val_loss: 0.0963\n",
            "Epoch 142/300\n",
            "\u001b[1m3/3\u001b[0m \u001b[32m━━━━━━━━━━━━━━━━━━━━\u001b[0m\u001b[37m\u001b[0m \u001b[1m0s\u001b[0m 75ms/step - categorical_accuracy: 0.9488 - loss: 0.1161 - val_categorical_accuracy: 0.9722 - val_loss: 0.0974\n",
            "Epoch 143/300\n",
            "\u001b[1m3/3\u001b[0m \u001b[32m━━━━━━━━━━━━━━━━━━━━\u001b[0m\u001b[37m\u001b[0m \u001b[1m0s\u001b[0m 74ms/step - categorical_accuracy: 0.9606 - loss: 0.1027 - val_categorical_accuracy: 0.9722 - val_loss: 0.0921\n",
            "Epoch 144/300\n",
            "\u001b[1m3/3\u001b[0m \u001b[32m━━━━━━━━━━━━━━━━━━━━\u001b[0m\u001b[37m\u001b[0m \u001b[1m0s\u001b[0m 81ms/step - categorical_accuracy: 0.9528 - loss: 0.0995 - val_categorical_accuracy: 0.9444 - val_loss: 0.1118\n",
            "Epoch 145/300\n",
            "\u001b[1m3/3\u001b[0m \u001b[32m━━━━━━━━━━━━━━━━━━━━\u001b[0m\u001b[37m\u001b[0m \u001b[1m0s\u001b[0m 84ms/step - categorical_accuracy: 0.9665 - loss: 0.1009 - val_categorical_accuracy: 0.9722 - val_loss: 0.0917\n",
            "Epoch 146/300\n",
            "\u001b[1m3/3\u001b[0m \u001b[32m━━━━━━━━━━━━━━━━━━━━\u001b[0m\u001b[37m\u001b[0m \u001b[1m0s\u001b[0m 85ms/step - categorical_accuracy: 0.9449 - loss: 0.1035 - val_categorical_accuracy: 0.9722 - val_loss: 0.1011\n",
            "Epoch 147/300\n",
            "\u001b[1m3/3\u001b[0m \u001b[32m━━━━━━━━━━━━━━━━━━━━\u001b[0m\u001b[37m\u001b[0m \u001b[1m0s\u001b[0m 71ms/step - categorical_accuracy: 0.9528 - loss: 0.1170 - val_categorical_accuracy: 0.9722 - val_loss: 0.0937\n",
            "Epoch 148/300\n",
            "\u001b[1m3/3\u001b[0m \u001b[32m━━━━━━━━━━━━━━━━━━━━\u001b[0m\u001b[37m\u001b[0m \u001b[1m0s\u001b[0m 52ms/step - categorical_accuracy: 0.9645 - loss: 0.1013 - val_categorical_accuracy: 0.9444 - val_loss: 0.1155\n",
            "Epoch 149/300\n",
            "\u001b[1m3/3\u001b[0m \u001b[32m━━━━━━━━━━━━━━━━━━━━\u001b[0m\u001b[37m\u001b[0m \u001b[1m0s\u001b[0m 47ms/step - categorical_accuracy: 0.9626 - loss: 0.1163 - val_categorical_accuracy: 0.9722 - val_loss: 0.0916\n",
            "Epoch 150/300\n",
            "\u001b[1m3/3\u001b[0m \u001b[32m━━━━━━━━━━━━━━━━━━━━\u001b[0m\u001b[37m\u001b[0m \u001b[1m0s\u001b[0m 46ms/step - categorical_accuracy: 0.9606 - loss: 0.0820 - val_categorical_accuracy: 0.9722 - val_loss: 0.0931\n",
            "Epoch 151/300\n",
            "\u001b[1m3/3\u001b[0m \u001b[32m━━━━━━━━━━━━━━━━━━━━\u001b[0m\u001b[37m\u001b[0m \u001b[1m0s\u001b[0m 47ms/step - categorical_accuracy: 0.9390 - loss: 0.1012 - val_categorical_accuracy: 0.9722 - val_loss: 0.0929\n",
            "Epoch 152/300\n",
            "\u001b[1m3/3\u001b[0m \u001b[32m━━━━━━━━━━━━━━━━━━━━\u001b[0m\u001b[37m\u001b[0m \u001b[1m0s\u001b[0m 46ms/step - categorical_accuracy: 0.9567 - loss: 0.1013 - val_categorical_accuracy: 0.9444 - val_loss: 0.1047\n",
            "Epoch 153/300\n",
            "\u001b[1m3/3\u001b[0m \u001b[32m━━━━━━━━━━━━━━━━━━━━\u001b[0m\u001b[37m\u001b[0m \u001b[1m0s\u001b[0m 45ms/step - categorical_accuracy: 0.9684 - loss: 0.0861 - val_categorical_accuracy: 0.9722 - val_loss: 0.0955\n",
            "Epoch 154/300\n",
            "\u001b[1m3/3\u001b[0m \u001b[32m━━━━━━━━━━━━━━━━━━━━\u001b[0m\u001b[37m\u001b[0m \u001b[1m0s\u001b[0m 73ms/step - categorical_accuracy: 0.9488 - loss: 0.1002 - val_categorical_accuracy: 0.9722 - val_loss: 0.0844\n",
            "Epoch 155/300\n",
            "\u001b[1m3/3\u001b[0m \u001b[32m━━━━━━━━━━━━━━━━━━━━\u001b[0m\u001b[37m\u001b[0m \u001b[1m0s\u001b[0m 55ms/step - categorical_accuracy: 0.9684 - loss: 0.0853 - val_categorical_accuracy: 0.9722 - val_loss: 0.0851\n",
            "Epoch 156/300\n",
            "\u001b[1m3/3\u001b[0m \u001b[32m━━━━━━━━━━━━━━━━━━━━\u001b[0m\u001b[37m\u001b[0m \u001b[1m0s\u001b[0m 49ms/step - categorical_accuracy: 0.9488 - loss: 0.0999 - val_categorical_accuracy: 0.9722 - val_loss: 0.0911\n",
            "Epoch 157/300\n",
            "\u001b[1m3/3\u001b[0m \u001b[32m━━━━━━━━━━━━━━━━━━━━\u001b[0m\u001b[37m\u001b[0m \u001b[1m0s\u001b[0m 54ms/step - categorical_accuracy: 0.9507 - loss: 0.0931 - val_categorical_accuracy: 0.9444 - val_loss: 0.1132\n",
            "Epoch 158/300\n",
            "\u001b[1m3/3\u001b[0m \u001b[32m━━━━━━━━━━━━━━━━━━━━\u001b[0m\u001b[37m\u001b[0m \u001b[1m0s\u001b[0m 45ms/step - categorical_accuracy: 0.9548 - loss: 0.1299 - val_categorical_accuracy: 0.9722 - val_loss: 0.0956\n",
            "Epoch 159/300\n",
            "\u001b[1m3/3\u001b[0m \u001b[32m━━━━━━━━━━━━━━━━━━━━\u001b[0m\u001b[37m\u001b[0m \u001b[1m0s\u001b[0m 45ms/step - categorical_accuracy: 0.9606 - loss: 0.1009 - val_categorical_accuracy: 0.9722 - val_loss: 0.0897\n"
          ]
        }
      ]
    },
    {
      "cell_type": "markdown",
      "source": [
        "#AVALIANDO MODELO"
      ],
      "metadata": {
        "id": "02YKxOLqibYW"
      }
    },
    {
      "cell_type": "markdown",
      "source": [
        "##Desempenho de aprendizagem"
      ],
      "metadata": {
        "id": "OfItZZ7DzRZd"
      }
    },
    {
      "cell_type": "code",
      "source": [
        "historico.history#historico de desenpenho."
      ],
      "metadata": {
        "colab": {
          "base_uri": "https://localhost:8080/"
        },
        "id": "WFhyeoArj6A4",
        "outputId": "e024b867-925a-4960-99c8-7069bb358476"
      },
      "execution_count": null,
      "outputs": [
        {
          "output_type": "execute_result",
          "data": {
            "text/plain": [
              "{'categorical_accuracy': [0.523809552192688,\n",
              "  0.6785714030265808,\n",
              "  0.6785714030265808,\n",
              "  0.6785714030265808,\n",
              "  0.6785714030265808,\n",
              "  0.6785714030265808,\n",
              "  0.6785714030265808,\n",
              "  0.6785714030265808,\n",
              "  0.6785714030265808,\n",
              "  0.6785714030265808,\n",
              "  0.6785714030265808,\n",
              "  0.6785714030265808,\n",
              "  0.6785714030265808,\n",
              "  0.6904761791229248,\n",
              "  0.6785714030265808,\n",
              "  0.6785714030265808,\n",
              "  0.6785714030265808,\n",
              "  0.726190447807312,\n",
              "  0.6904761791229248,\n",
              "  0.6785714030265808,\n",
              "  0.6785714030265808,\n",
              "  0.8214285969734192,\n",
              "  0.726190447807312,\n",
              "  0.8571428656578064,\n",
              "  0.75,\n",
              "  0.75,\n",
              "  0.738095223903656,\n",
              "  0.8333333134651184,\n",
              "  0.9047619104385376,\n",
              "  0.8452380895614624,\n",
              "  0.9047619104385376,\n",
              "  0.8571428656578064,\n",
              "  0.8571428656578064,\n",
              "  0.8809523582458496,\n",
              "  0.8809523582458496,\n",
              "  0.8928571343421936,\n",
              "  0.9166666865348816,\n",
              "  0.9047619104385376,\n",
              "  0.9047619104385376,\n",
              "  0.9285714030265808,\n",
              "  0.9166666865348816,\n",
              "  0.9047619104385376,\n",
              "  0.9285714030265808,\n",
              "  0.9047619104385376,\n",
              "  0.9166666865348816,\n",
              "  0.9404761791229248,\n",
              "  0.9047619104385376,\n",
              "  0.9285714030265808,\n",
              "  0.9285714030265808,\n",
              "  0.9404761791229248,\n",
              "  0.9404761791229248,\n",
              "  0.9285714030265808,\n",
              "  0.9166666865348816,\n",
              "  0.9166666865348816,\n",
              "  0.9047619104385376,\n",
              "  0.9642857313156128,\n",
              "  0.9166666865348816,\n",
              "  0.9285714030265808,\n",
              "  0.9166666865348816,\n",
              "  0.9285714030265808,\n",
              "  0.9404761791229248,\n",
              "  0.9285714030265808,\n",
              "  0.9404761791229248,\n",
              "  0.9166666865348816,\n",
              "  0.9523809552192688,\n",
              "  0.9523809552192688,\n",
              "  0.9404761791229248,\n",
              "  0.9523809552192688,\n",
              "  0.9642857313156128,\n",
              "  0.9285714030265808,\n",
              "  0.9523809552192688,\n",
              "  0.9404761791229248,\n",
              "  0.9523809552192688,\n",
              "  0.9404761791229248,\n",
              "  0.9404761791229248,\n",
              "  0.9523809552192688,\n",
              "  0.9285714030265808,\n",
              "  0.9404761791229248,\n",
              "  0.9523809552192688,\n",
              "  0.9523809552192688,\n",
              "  0.9642857313156128,\n",
              "  0.9523809552192688,\n",
              "  0.9523809552192688,\n",
              "  0.9285714030265808,\n",
              "  0.9523809552192688,\n",
              "  0.9523809552192688,\n",
              "  0.976190447807312,\n",
              "  0.9523809552192688,\n",
              "  0.9404761791229248,\n",
              "  0.9642857313156128,\n",
              "  0.9523809552192688,\n",
              "  0.9523809552192688,\n",
              "  0.9523809552192688,\n",
              "  0.9523809552192688,\n",
              "  0.9404761791229248,\n",
              "  0.9642857313156128,\n",
              "  0.9285714030265808,\n",
              "  0.9404761791229248,\n",
              "  0.9404761791229248,\n",
              "  0.9642857313156128,\n",
              "  0.9523809552192688,\n",
              "  0.9523809552192688,\n",
              "  0.9523809552192688,\n",
              "  0.9523809552192688,\n",
              "  0.9404761791229248,\n",
              "  0.9642857313156128,\n",
              "  0.9523809552192688,\n",
              "  0.9523809552192688,\n",
              "  0.9523809552192688,\n",
              "  0.9523809552192688,\n",
              "  0.9523809552192688,\n",
              "  0.9642857313156128,\n",
              "  0.9523809552192688,\n",
              "  0.9523809552192688,\n",
              "  0.9523809552192688,\n",
              "  0.9523809552192688,\n",
              "  0.976190447807312,\n",
              "  0.9523809552192688,\n",
              "  0.976190447807312,\n",
              "  0.9404761791229248,\n",
              "  0.9404761791229248,\n",
              "  0.9523809552192688,\n",
              "  0.9523809552192688,\n",
              "  0.9523809552192688,\n",
              "  0.9523809552192688,\n",
              "  0.9642857313156128,\n",
              "  0.9642857313156128,\n",
              "  0.9523809552192688,\n",
              "  0.9404761791229248,\n",
              "  0.9523809552192688,\n",
              "  0.9642857313156128,\n",
              "  0.9523809552192688,\n",
              "  0.9523809552192688,\n",
              "  0.9404761791229248,\n",
              "  0.9642857313156128,\n",
              "  0.9523809552192688,\n",
              "  0.9404761791229248,\n",
              "  0.9523809552192688,\n",
              "  0.9523809552192688,\n",
              "  0.9642857313156128,\n",
              "  0.9404761791229248,\n",
              "  0.9523809552192688,\n",
              "  0.9523809552192688,\n",
              "  0.9523809552192688,\n",
              "  0.9642857313156128,\n",
              "  0.9523809552192688,\n",
              "  0.9523809552192688,\n",
              "  0.9523809552192688,\n",
              "  0.9642857313156128,\n",
              "  0.9523809552192688,\n",
              "  0.9404761791229248,\n",
              "  0.9523809552192688,\n",
              "  0.9523809552192688,\n",
              "  0.9523809552192688,\n",
              "  0.9523809552192688,\n",
              "  0.9523809552192688,\n",
              "  0.9404761791229248,\n",
              "  0.9642857313156128,\n",
              "  0.9523809552192688],\n",
              " 'loss': [1.0638856887817383,\n",
              "  0.9842737317085266,\n",
              "  0.9326122999191284,\n",
              "  0.8934814929962158,\n",
              "  0.8536823987960815,\n",
              "  0.8232854008674622,\n",
              "  0.785315215587616,\n",
              "  0.7553480863571167,\n",
              "  0.7273958921432495,\n",
              "  0.7011708617210388,\n",
              "  0.6766968965530396,\n",
              "  0.6534430384635925,\n",
              "  0.6320657134056091,\n",
              "  0.6123485565185547,\n",
              "  0.5948954224586487,\n",
              "  0.573757529258728,\n",
              "  0.5576033592224121,\n",
              "  0.5404577255249023,\n",
              "  0.5284795165061951,\n",
              "  0.513306736946106,\n",
              "  0.5021144151687622,\n",
              "  0.4907631278038025,\n",
              "  0.48068881034851074,\n",
              "  0.4689992368221283,\n",
              "  0.46140435338020325,\n",
              "  0.4503627121448517,\n",
              "  0.44443902373313904,\n",
              "  0.43625858426094055,\n",
              "  0.42687737941741943,\n",
              "  0.4235047698020935,\n",
              "  0.4110623300075531,\n",
              "  0.40661707520484924,\n",
              "  0.3983526825904846,\n",
              "  0.3904418349266052,\n",
              "  0.3834680914878845,\n",
              "  0.3780471682548523,\n",
              "  0.36914685368537903,\n",
              "  0.36222144961357117,\n",
              "  0.3574180603027344,\n",
              "  0.34858840703964233,\n",
              "  0.3411897122859955,\n",
              "  0.34533390402793884,\n",
              "  0.32879140973091125,\n",
              "  0.32304155826568604,\n",
              "  0.320365309715271,\n",
              "  0.31245550513267517,\n",
              "  0.3083140552043915,\n",
              "  0.30319327116012573,\n",
              "  0.29783451557159424,\n",
              "  0.30457502603530884,\n",
              "  0.2871161997318268,\n",
              "  0.2863481938838959,\n",
              "  0.2785629332065582,\n",
              "  0.2756368815898895,\n",
              "  0.26906219124794006,\n",
              "  0.26482266187667847,\n",
              "  0.2615275979042053,\n",
              "  0.2632128894329071,\n",
              "  0.2528918385505676,\n",
              "  0.25018492341041565,\n",
              "  0.24337050318717957,\n",
              "  0.24002084136009216,\n",
              "  0.2410181760787964,\n",
              "  0.23250535130500793,\n",
              "  0.22769205272197723,\n",
              "  0.22523628175258636,\n",
              "  0.22283215820789337,\n",
              "  0.21675188839435577,\n",
              "  0.21312782168388367,\n",
              "  0.21304862201213837,\n",
              "  0.20672862231731415,\n",
              "  0.20711249113082886,\n",
              "  0.19906313717365265,\n",
              "  0.1987524926662445,\n",
              "  0.20209594070911407,\n",
              "  0.1943453997373581,\n",
              "  0.19365732371807098,\n",
              "  0.19290278851985931,\n",
              "  0.18539650738239288,\n",
              "  0.18172138929367065,\n",
              "  0.18074950575828552,\n",
              "  0.18335124850273132,\n",
              "  0.17406436800956726,\n",
              "  0.18115946650505066,\n",
              "  0.17009207606315613,\n",
              "  0.17147016525268555,\n",
              "  0.16886933147907257,\n",
              "  0.16387830674648285,\n",
              "  0.1697128862142563,\n",
              "  0.16341207921504974,\n",
              "  0.15780964493751526,\n",
              "  0.15547963976860046,\n",
              "  0.15476348996162415,\n",
              "  0.1516898274421692,\n",
              "  0.16281579434871674,\n",
              "  0.14982040226459503,\n",
              "  0.15369661152362823,\n",
              "  0.1541621834039688,\n",
              "  0.1472320854663849,\n",
              "  0.142994225025177,\n",
              "  0.14177441596984863,\n",
              "  0.13996398448944092,\n",
              "  0.15159785747528076,\n",
              "  0.14242765307426453,\n",
              "  0.13835793733596802,\n",
              "  0.14331094920635223,\n",
              "  0.13403204083442688,\n",
              "  0.13510005176067352,\n",
              "  0.1338728666305542,\n",
              "  0.14384882152080536,\n",
              "  0.1341031789779663,\n",
              "  0.12970709800720215,\n",
              "  0.1306634545326233,\n",
              "  0.13161970674991608,\n",
              "  0.126180961728096,\n",
              "  0.12897726893424988,\n",
              "  0.12602269649505615,\n",
              "  0.1239362359046936,\n",
              "  0.12235058099031448,\n",
              "  0.13763439655303955,\n",
              "  0.12203847616910934,\n",
              "  0.12646810710430145,\n",
              "  0.12242694199085236,\n",
              "  0.11980973929166794,\n",
              "  0.11749231070280075,\n",
              "  0.12285210192203522,\n",
              "  0.11603905260562897,\n",
              "  0.11693735420703888,\n",
              "  0.12127935141324997,\n",
              "  0.11890314519405365,\n",
              "  0.11515551805496216,\n",
              "  0.11170550435781479,\n",
              "  0.11049815267324448,\n",
              "  0.12472482025623322,\n",
              "  0.1096225455403328,\n",
              "  0.1114480122923851,\n",
              "  0.1168566346168518,\n",
              "  0.10679230093955994,\n",
              "  0.10784400254487991,\n",
              "  0.10854069143533707,\n",
              "  0.10840052366256714,\n",
              "  0.10837329924106598,\n",
              "  0.10775555670261383,\n",
              "  0.10500450432300568,\n",
              "  0.1042879968881607,\n",
              "  0.10119659453630447,\n",
              "  0.1083272397518158,\n",
              "  0.1096726804971695,\n",
              "  0.10665338486433029,\n",
              "  0.0998634397983551,\n",
              "  0.10168439894914627,\n",
              "  0.10228404402732849,\n",
              "  0.10066923499107361,\n",
              "  0.10016448050737381,\n",
              "  0.10108395665884018,\n",
              "  0.09830168634653091,\n",
              "  0.10186220705509186,\n",
              "  0.11538533866405487,\n",
              "  0.09790462255477905],\n",
              " 'val_categorical_accuracy': [0.6388888955116272,\n",
              "  0.6388888955116272,\n",
              "  0.6388888955116272,\n",
              "  0.6388888955116272,\n",
              "  0.6388888955116272,\n",
              "  0.6388888955116272,\n",
              "  0.6388888955116272,\n",
              "  0.6388888955116272,\n",
              "  0.6388888955116272,\n",
              "  0.6388888955116272,\n",
              "  0.6388888955116272,\n",
              "  0.6388888955116272,\n",
              "  0.6666666865348816,\n",
              "  0.6388888955116272,\n",
              "  0.6666666865348816,\n",
              "  0.6666666865348816,\n",
              "  0.6666666865348816,\n",
              "  0.6666666865348816,\n",
              "  0.6388888955116272,\n",
              "  0.6666666865348816,\n",
              "  0.75,\n",
              "  0.6666666865348816,\n",
              "  0.6944444179534912,\n",
              "  0.6666666865348816,\n",
              "  0.6666666865348816,\n",
              "  0.6666666865348816,\n",
              "  0.7777777910232544,\n",
              "  0.8888888955116272,\n",
              "  0.8611111044883728,\n",
              "  0.8888888955116272,\n",
              "  0.75,\n",
              "  0.75,\n",
              "  0.7777777910232544,\n",
              "  0.8611111044883728,\n",
              "  0.9166666865348816,\n",
              "  0.8888888955116272,\n",
              "  0.8888888955116272,\n",
              "  0.9166666865348816,\n",
              "  0.9722222089767456,\n",
              "  0.9166666865348816,\n",
              "  0.9166666865348816,\n",
              "  0.9722222089767456,\n",
              "  0.9166666865348816,\n",
              "  0.9722222089767456,\n",
              "  0.9722222089767456,\n",
              "  0.9166666865348816,\n",
              "  0.9722222089767456,\n",
              "  0.9722222089767456,\n",
              "  0.9722222089767456,\n",
              "  0.9722222089767456,\n",
              "  0.9722222089767456,\n",
              "  0.9166666865348816,\n",
              "  0.9722222089767456,\n",
              "  0.9722222089767456,\n",
              "  0.9722222089767456,\n",
              "  0.9166666865348816,\n",
              "  0.9166666865348816,\n",
              "  0.9722222089767456,\n",
              "  0.9722222089767456,\n",
              "  0.9722222089767456,\n",
              "  0.9444444179534912,\n",
              "  0.9722222089767456,\n",
              "  0.9166666865348816,\n",
              "  0.9722222089767456,\n",
              "  0.9722222089767456,\n",
              "  0.9722222089767456,\n",
              "  0.9722222089767456,\n",
              "  0.9722222089767456,\n",
              "  0.9444444179534912,\n",
              "  0.9722222089767456,\n",
              "  0.9444444179534912,\n",
              "  0.9722222089767456,\n",
              "  0.9722222089767456,\n",
              "  0.9444444179534912,\n",
              "  0.9444444179534912,\n",
              "  0.9722222089767456,\n",
              "  0.9444444179534912,\n",
              "  0.9722222089767456,\n",
              "  0.9444444179534912,\n",
              "  1.0,\n",
              "  0.9722222089767456,\n",
              "  1.0,\n",
              "  0.9722222089767456,\n",
              "  0.9722222089767456,\n",
              "  0.9722222089767456,\n",
              "  0.9722222089767456,\n",
              "  0.9722222089767456,\n",
              "  0.9722222089767456,\n",
              "  0.9444444179534912,\n",
              "  0.9722222089767456,\n",
              "  0.9722222089767456,\n",
              "  0.9722222089767456,\n",
              "  1.0,\n",
              "  0.9722222089767456,\n",
              "  0.9722222089767456,\n",
              "  1.0,\n",
              "  0.9722222089767456,\n",
              "  0.9722222089767456,\n",
              "  0.9722222089767456,\n",
              "  0.9722222089767456,\n",
              "  0.9722222089767456,\n",
              "  1.0,\n",
              "  1.0,\n",
              "  0.9722222089767456,\n",
              "  0.9444444179534912,\n",
              "  0.9722222089767456,\n",
              "  0.9722222089767456,\n",
              "  1.0,\n",
              "  0.9444444179534912,\n",
              "  0.9444444179534912,\n",
              "  0.9722222089767456,\n",
              "  1.0,\n",
              "  0.9722222089767456,\n",
              "  0.9722222089767456,\n",
              "  0.9722222089767456,\n",
              "  0.9444444179534912,\n",
              "  0.9722222089767456,\n",
              "  0.9444444179534912,\n",
              "  1.0,\n",
              "  0.9722222089767456,\n",
              "  0.9722222089767456,\n",
              "  0.9722222089767456,\n",
              "  0.9722222089767456,\n",
              "  0.9722222089767456,\n",
              "  0.9722222089767456,\n",
              "  0.9722222089767456,\n",
              "  0.9722222089767456,\n",
              "  0.9722222089767456,\n",
              "  0.9722222089767456,\n",
              "  0.9722222089767456,\n",
              "  0.9722222089767456,\n",
              "  0.9722222089767456,\n",
              "  0.9722222089767456,\n",
              "  0.9722222089767456,\n",
              "  0.9722222089767456,\n",
              "  0.9722222089767456,\n",
              "  0.9722222089767456,\n",
              "  0.9722222089767456,\n",
              "  0.9722222089767456,\n",
              "  1.0,\n",
              "  0.9722222089767456,\n",
              "  0.9722222089767456,\n",
              "  0.9722222089767456,\n",
              "  0.9444444179534912,\n",
              "  0.9722222089767456,\n",
              "  0.9722222089767456,\n",
              "  0.9722222089767456,\n",
              "  0.9444444179534912,\n",
              "  0.9722222089767456,\n",
              "  0.9722222089767456,\n",
              "  0.9722222089767456,\n",
              "  0.9444444179534912,\n",
              "  0.9722222089767456,\n",
              "  0.9722222089767456,\n",
              "  0.9722222089767456,\n",
              "  0.9722222089767456,\n",
              "  0.9444444179534912,\n",
              "  0.9722222089767456,\n",
              "  0.9722222089767456],\n",
              " 'val_loss': [1.0081706047058105,\n",
              "  0.9609659910202026,\n",
              "  0.9205793738365173,\n",
              "  0.8853098154067993,\n",
              "  0.8543261885643005,\n",
              "  0.8245009183883667,\n",
              "  0.7978305220603943,\n",
              "  0.7706300020217896,\n",
              "  0.7474977374076843,\n",
              "  0.7219452261924744,\n",
              "  0.7014958262443542,\n",
              "  0.6772104501724243,\n",
              "  0.6566781401634216,\n",
              "  0.6390429139137268,\n",
              "  0.6207945346832275,\n",
              "  0.6047608256340027,\n",
              "  0.5881006121635437,\n",
              "  0.5752562284469604,\n",
              "  0.5655369162559509,\n",
              "  0.5484663248062134,\n",
              "  0.5331493020057678,\n",
              "  0.524010956287384,\n",
              "  0.5118454694747925,\n",
              "  0.5056544542312622,\n",
              "  0.4979396462440491,\n",
              "  0.487478107213974,\n",
              "  0.4729294776916504,\n",
              "  0.46421894431114197,\n",
              "  0.45637357234954834,\n",
              "  0.44883114099502563,\n",
              "  0.4455704092979431,\n",
              "  0.43970879912376404,\n",
              "  0.4328542947769165,\n",
              "  0.4217057228088379,\n",
              "  0.41074323654174805,\n",
              "  0.4064871072769165,\n",
              "  0.3990475833415985,\n",
              "  0.38752666115760803,\n",
              "  0.3801006078720093,\n",
              "  0.37353086471557617,\n",
              "  0.3650146722793579,\n",
              "  0.35861384868621826,\n",
              "  0.35431018471717834,\n",
              "  0.34608685970306396,\n",
              "  0.3397907018661499,\n",
              "  0.33923450112342834,\n",
              "  0.327734112739563,\n",
              "  0.32152241468429565,\n",
              "  0.31588074564933777,\n",
              "  0.3115125894546509,\n",
              "  0.3069465458393097,\n",
              "  0.30615025758743286,\n",
              "  0.29621365666389465,\n",
              "  0.2927551865577698,\n",
              "  0.2860841155052185,\n",
              "  0.2844540774822235,\n",
              "  0.2810279130935669,\n",
              "  0.2718033492565155,\n",
              "  0.2660350799560547,\n",
              "  0.2630993127822876,\n",
              "  0.26184678077697754,\n",
              "  0.25536882877349854,\n",
              "  0.2577957510948181,\n",
              "  0.24432584643363953,\n",
              "  0.24018754065036774,\n",
              "  0.2370438277721405,\n",
              "  0.23180259764194489,\n",
              "  0.22874556481838226,\n",
              "  0.2308155745267868,\n",
              "  0.21990418434143066,\n",
              "  0.225546196103096,\n",
              "  0.21223579347133636,\n",
              "  0.2100849449634552,\n",
              "  0.21149063110351562,\n",
              "  0.20549531280994415,\n",
              "  0.19884485006332397,\n",
              "  0.20115625858306885,\n",
              "  0.1944376826286316,\n",
              "  0.1932152509689331,\n",
              "  0.18861447274684906,\n",
              "  0.1873098462820053,\n",
              "  0.18364082276821136,\n",
              "  0.18062040209770203,\n",
              "  0.17727996408939362,\n",
              "  0.1745205968618393,\n",
              "  0.17250272631645203,\n",
              "  0.16933542490005493,\n",
              "  0.16841912269592285,\n",
              "  0.17201167345046997,\n",
              "  0.16440634429454803,\n",
              "  0.15926493704319,\n",
              "  0.15673834085464478,\n",
              "  0.15578143298625946,\n",
              "  0.15327255427837372,\n",
              "  0.14936156570911407,\n",
              "  0.15018275380134583,\n",
              "  0.15151064097881317,\n",
              "  0.14819002151489258,\n",
              "  0.14460638165473938,\n",
              "  0.14089515805244446,\n",
              "  0.1406542956829071,\n",
              "  0.13816308975219727,\n",
              "  0.13943782448768616,\n",
              "  0.13458305597305298,\n",
              "  0.14047518372535706,\n",
              "  0.13368913531303406,\n",
              "  0.13100089132785797,\n",
              "  0.12966473400592804,\n",
              "  0.13419491052627563,\n",
              "  0.13862860202789307,\n",
              "  0.12966257333755493,\n",
              "  0.12465691566467285,\n",
              "  0.12314473092556,\n",
              "  0.12160497158765793,\n",
              "  0.12066087126731873,\n",
              "  0.13400404155254364,\n",
              "  0.11834711581468582,\n",
              "  0.12506850063800812,\n",
              "  0.1164991557598114,\n",
              "  0.1166614294052124,\n",
              "  0.11455215513706207,\n",
              "  0.11264567822217941,\n",
              "  0.11129271984100342,\n",
              "  0.11309327185153961,\n",
              "  0.1093442365527153,\n",
              "  0.1125892698764801,\n",
              "  0.1083373874425888,\n",
              "  0.10595007985830307,\n",
              "  0.11204388737678528,\n",
              "  0.10425004363059998,\n",
              "  0.10287082195281982,\n",
              "  0.10526794195175171,\n",
              "  0.10547361522912979,\n",
              "  0.10915017127990723,\n",
              "  0.09936366975307465,\n",
              "  0.09876865148544312,\n",
              "  0.09733392298221588,\n",
              "  0.10041563957929611,\n",
              "  0.09874381124973297,\n",
              "  0.09606975317001343,\n",
              "  0.09629105031490326,\n",
              "  0.09740089625120163,\n",
              "  0.09208676218986511,\n",
              "  0.11184244602918625,\n",
              "  0.09168122708797455,\n",
              "  0.10108749568462372,\n",
              "  0.09365150332450867,\n",
              "  0.1155143603682518,\n",
              "  0.09157335758209229,\n",
              "  0.09308474510908127,\n",
              "  0.09293147921562195,\n",
              "  0.10474555939435959,\n",
              "  0.09546669572591782,\n",
              "  0.08437980711460114,\n",
              "  0.085072822868824,\n",
              "  0.09114127606153488,\n",
              "  0.11320456117391586,\n",
              "  0.09557069838047028,\n",
              "  0.08974222093820572]}"
            ]
          },
          "metadata": {},
          "execution_count": 122
        }
      ]
    },
    {
      "cell_type": "code",
      "source": [
        "import pandas as pd\n",
        "\n",
        "pd.DataFrame(historico.history).plot()\n",
        "plt.grid()\n",
        "plt.show()\n"
      ],
      "metadata": {
        "colab": {
          "base_uri": "https://localhost:8080/",
          "height": 430
        },
        "id": "dyQYrUCbnQq-",
        "outputId": "428b46ee-b175-41cb-a94e-21046478ef1e"
      },
      "execution_count": null,
      "outputs": [
        {
          "output_type": "display_data",
          "data": {
            "text/plain": [
              "<Figure size 640x480 with 1 Axes>"
            ],
            "image/png": "[encoded data removed]"
          },
          "metadata": {}
        }
      ]
    },
    {
      "cell_type": "code",
      "source": [
        "fig, ax = plt.subplots(1,2, figsize=(14,5))\n",
        "ax[0].plot(historico.history['loss'], color='#111487', linewidth=3, label=\"Perda de treinamento\")#diminuiçao da perda/inversa as epocas\n",
        "ax[0].plot(historico.history['val_loss'], color='#EFA316', linewidth=3, label=\"Perda da validação\")\n",
        "legend = ax[0].legend(loc='best', shadow=True)\n",
        "\n",
        "ax[1].plot(historico.history['categorical_accuracy'], color='#111487', linewidth=3, label=\"Acurácia de treinamento\")\n",
        "ax[1].plot(historico.history['val_categorical_accuracy'], color='#EFA316', linewidth=3, label=\"Acurácia de validação\")\n",
        "legend = ax[1].legend(loc='best', shadow=True)#otimizaçao dos pesos e  accuracy sobe.\n",
        "\n",
        "plt.suptitle('Desempenho do treinamento', fontsize = 18)\n",
        "plt.show()\n",
        "#bom desenpenho no treinamento."
      ],
      "metadata": {
        "colab": {
          "base_uri": "https://localhost:8080/",
          "height": 495
        },
        "id": "XebE8z6-oswM",
        "outputId": "dfdd0448-bfcc-4da5-cbe3-a681005577b9"
      },
      "execution_count": null,
      "outputs": [
        {
          "output_type": "display_data",
          "data": {
            "text/plain": [
              "<Figure size 1400x500 with 2 Axes>"
            ],
            "image/png": "[encoded data removed]"
          },
          "metadata": {}
        }
      ]
    },
    {
      "cell_type": "markdown",
      "source": [
        "##Teste"
      ],
      "metadata": {
        "id": "B8XsscuD0ipZ"
      }
    },
    {
      "cell_type": "code",
      "source": [
        "modelo.evaluate(x_teste,y_teste)"
      ],
      "metadata": {
        "colab": {
          "base_uri": "https://localhost:8080/"
        },
        "id": "SLydOkhX0m95",
        "outputId": "7d44c066-54c1-448e-ce12-b46e1e3c36da"
      },
      "execution_count": null,
      "outputs": [
        {
          "output_type": "stream",
          "name": "stdout",
          "text": [
            "\u001b[1m1/1\u001b[0m \u001b[32m━━━━━━━━━━━━━━━━━━━━\u001b[0m\u001b[37m\u001b[0m \u001b[1m0s\u001b[0m 86ms/step - categorical_accuracy: 0.9667 - loss: 0.1027\n"
          ]
        },
        {
          "output_type": "execute_result",
          "data": {
            "text/plain": [
              "[0.10274651646614075, 0.9666666388511658]"
            ]
          },
          "metadata": {},
          "execution_count": 127
        }
      ]
    },
    {
      "cell_type": "code",
      "source": [
        "import numpy as np\n",
        "\n",
        "input_data = np.array([[0.61, 0.5, 0.69, 0.79]])\n",
        "predictions = modelo.predict(input_data)\n",
        "\n",
        "# Convert probabilities to percentages\n",
        "percentages = predictions * 100\n",
        "\n",
        "# Print the percentages for each class\n",
        "for i, percentage in enumerate(percentages[0]):\n",
        "    class_name = datasets.load_iris()['target_names'][i]\n",
        "    print(f'{class_name}: {percentage:.2f}%')"
      ],
      "metadata": {
        "colab": {
          "base_uri": "https://localhost:8080/"
        },
        "id": "1qADSUIn2k8-",
        "outputId": "c9c3eb27-6c19-41b7-8eb9-51c94a968c31"
      },
      "execution_count": null,
      "outputs": [
        {
          "output_type": "stream",
          "name": "stdout",
          "text": [
            "\u001b[1m1/1\u001b[0m \u001b[32m━━━━━━━━━━━━━━━━━━━━\u001b[0m\u001b[37m\u001b[0m \u001b[1m0s\u001b[0m 39ms/step\n",
            "setosa: 0.00%\n",
            "versicolor: 13.27%\n",
            "virginica: 86.73%\n"
          ]
        }
      ]
    }
  ]
}